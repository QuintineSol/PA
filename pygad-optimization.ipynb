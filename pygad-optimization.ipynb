{
 "cells": [
  {
   "cell_type": "markdown",
   "metadata": {},
   "source": [
    "# Optimization Task"
   ]
  },
  {
   "cell_type": "code",
   "execution_count": 2,
   "metadata": {},
   "outputs": [],
   "source": [
    "# Questions:\n",
    "# - Is the penalty cost incurred every day or only once?\n",
    "# - What are the penalty costs of an engine that is not maintained at all?"
   ]
  },
  {
   "cell_type": "code",
   "execution_count": 3,
   "metadata": {},
   "outputs": [],
   "source": [
    "# MY IDEA: define the optimization problem as a permutation\n",
    "# - change individual to list of engines\n",
    "# - then it's just a permutation problem\n",
    "# first few engines are assigned to team 1 until it does not fit anymore\n",
    "# then, the next few engines are assigned to team 2 until it does not fit anymore etc.\n",
    "\n",
    "# Population: list of (no_individuals) containing schedules\n",
    "# Individual: permutation of engines requiring maintenance within the planning horizon.\n",
    "# Fitness calculation: we go through the permutation. We assign engines to the first team until it does not\n",
    "#   fit anymore. Then, we go to the next team, assign the engines from the engine where we left of, to the \n",
    "#   this next team until it does not fit etc. until we've done all teams. Then, the remaining engines are\n",
    "#   not maintained, so we just calculate their costs (not sure how high they should be -> see questions above).\n",
    "#   I think this is an optimal solution as teams A are first, and they're always more efficient than team B.\n",
    "#   Therefore, moving a team to the next team is always equally or less efficient than assigning it to the\n",
    "#   current team.\n",
    "\n",
    "# TODO:\n",
    "# - experiment with GA instance parameters\n",
    "# - crossover: create random number of crossoverpoints"
   ]
  },
  {
   "cell_type": "code",
   "execution_count": 4,
   "metadata": {},
   "outputs": [],
   "source": [
    "# Imports\n",
    "import pandas as pd\n",
    "import random\n",
    "import numpy as np\n",
    "import pygad"
   ]
  },
  {
   "cell_type": "code",
   "execution_count": 5,
   "metadata": {},
   "outputs": [],
   "source": [
    "# Set seeds\n",
    "np.random.seed(42)\n",
    "random.seed(42)"
   ]
  },
  {
   "cell_type": "code",
   "execution_count": 6,
   "metadata": {},
   "outputs": [],
   "source": [
    "# Constants\n",
    "TOTAL_NO_ENGINES = 100\n",
    "T_1 = 1"
   ]
  },
  {
   "cell_type": "code",
   "execution_count": 7,
   "metadata": {},
   "outputs": [],
   "source": [
    "engines = list(range(1, TOTAL_NO_ENGINES + 1))"
   ]
  },
  {
   "cell_type": "markdown",
   "metadata": {},
   "source": [
    "## Loading Data"
   ]
  },
  {
   "cell_type": "code",
   "execution_count": 8,
   "metadata": {},
   "outputs": [
    {
     "name": "stdout",
     "output_type": "stream",
     "text": [
      "  RUL;id\n",
      "0  135;1\n",
      "1  125;2\n",
      "2   63;3\n",
      "3  100;4\n",
      "4  103;5\n"
     ]
    }
   ],
   "source": [
    "file_path = \"./data/RUL_consultancy_predictions_A3-2.csv\"\n",
    "\n",
    "# Load the CSV file into a pandas DataFrame\n",
    "df = pd.read_csv(file_path)\n",
    "\n",
    "# Display the first few rows of the DataFrame to verify that the data was loaded correctly\n",
    "print(df.head())\n",
    "\n",
    "# Split the \"RUL;id\" column into two separate columns\n",
    "df[['RUL', 'id']] = df['RUL;id'].str.split(';', expand=True)\n",
    "\n",
    "# Convert the 'RUL' column to a dictionary with 'id' column as keys\n",
    "RUL = dict(zip(df['id'].astype(int), df['RUL'].astype(int)))"
   ]
  },
  {
   "cell_type": "markdown",
   "metadata": {},
   "source": [
    "## Maintenance Teams"
   ]
  },
  {
   "cell_type": "code",
   "execution_count": 9,
   "metadata": {},
   "outputs": [],
   "source": [
    "maintenance_duration = {}\n",
    "\n",
    "# Define the values for μAj\n",
    "for engine in engines:\n",
    "    if 1 <= engine <= 20:\n",
    "        maintenance_duration[engine] = {'A': 4, 'B': 5}  # since μBj = μAj + 1\n",
    "    elif 21 <= engine <= 55:\n",
    "        maintenance_duration[engine] = {'A': 3, 'B': 4}  # since μBj = μAj + 1\n",
    "    elif 56 <= engine <= 80:\n",
    "        maintenance_duration[engine] = {'A': 2, 'B': 3}  # since μBj = μAj + 1\n",
    "    else:\n",
    "        maintenance_duration[engine] = {'A': 8, 'B': 9}  # since μBj = μAj + 1\n",
    "\n",
    "# Update the values for μBj based on conditions\n",
    "for engine in engines:\n",
    "    if 1 <= engine <= 25:\n",
    "        maintenance_duration[engine]['B'] = maintenance_duration[engine]['A'] + 1\n",
    "    elif 26 <= engine <= 70:\n",
    "        maintenance_duration[engine]['B'] = maintenance_duration[engine]['A'] + 2\n",
    "    else:\n",
    "        maintenance_duration[engine]['B'] = maintenance_duration[engine]['A'] + 1"
   ]
  },
  {
   "cell_type": "markdown",
   "metadata": {},
   "source": [
    "## Safety due date"
   ]
  },
  {
   "cell_type": "code",
   "execution_count": 10,
   "metadata": {},
   "outputs": [],
   "source": [
    "safety_due_date = {id_val: T_1 + rul - 1 for id_val, rul in RUL.items()}"
   ]
  },
  {
   "cell_type": "markdown",
   "metadata": {},
   "source": [
    "## Penalty costs"
   ]
  },
  {
   "cell_type": "code",
   "execution_count": 11,
   "metadata": {},
   "outputs": [],
   "source": [
    "penalty_costs = {}\n",
    "\n",
    "# Define the values for cj\n",
    "for engine in range(1, 21):\n",
    "    penalty_costs[engine] = 4\n",
    "\n",
    "for engine in range(21, 31):\n",
    "    penalty_costs[engine] = 3\n",
    "\n",
    "for engine in range(31, 46):\n",
    "    penalty_costs[engine] = 2\n",
    "\n",
    "for engine in range(46, 81):\n",
    "    penalty_costs[engine] = 5\n",
    "\n",
    "for engine in range(81, 101):\n",
    "    penalty_costs[engine] = 6\n"
   ]
  },
  {
   "cell_type": "markdown",
   "metadata": {},
   "source": [
    "## Help functions"
   ]
  },
  {
   "cell_type": "code",
   "execution_count": 12,
   "metadata": {},
   "outputs": [],
   "source": [
    "def cost(engine, day):\n",
    "    \"\"\"\n",
    "    Calculates the incurred cost when an engine is not maintained by its safety due date.\n",
    "\n",
    "    Parameters:\n",
    "    - engine: number of the engine\n",
    "    - day: current day\n",
    "\n",
    "    Returns:\n",
    "    - integer: incurred cost for the engine on the day\n",
    "    \"\"\"\n",
    "    if day > safety_due_date[engine]: # Engine is maintained too late\n",
    "        calculated_cost = penalty_costs[engine] * ((day - safety_due_date[engine]) ** 2)\n",
    "        return min(calculated_cost, 250)\n",
    "    else: # Engine is maintained on time\n",
    "        return 0"
   ]
  },
  {
   "cell_type": "code",
   "execution_count": 13,
   "metadata": {},
   "outputs": [],
   "source": [
    "def engines_requiring_maintenance(planning_horizon):\n",
    "    \"\"\"\n",
    "    Return the engines that require maintenance within the planning period.\n",
    "\n",
    "    Parameters:\n",
    "    - planning_horizon: number of days for which a maintenance schedule needs to be created\n",
    "\n",
    "    Returns:\n",
    "    - list: engines requiring maintenance\n",
    "    \"\"\"\n",
    "    engines_to_maintain = []\n",
    "    for engine_id, due_date in safety_due_date.items():\n",
    "        if due_date <= planning_horizon:\n",
    "            engines_to_maintain.append(engine_id)\n",
    "    return engines_to_maintain"
   ]
  },
  {
   "cell_type": "code",
   "execution_count": 14,
   "metadata": {},
   "outputs": [],
   "source": [
    "def output_format(solution):\n",
    "    \"\"\"\n",
    "    Transform solution to the correct output format.\n",
    "\n",
    "    \"\"\"\n",
    "\n",
    "    return"
   ]
  },
  {
   "cell_type": "markdown",
   "metadata": {},
   "source": [
    "## Genetic Algorithm"
   ]
  },
  {
   "cell_type": "code",
   "execution_count": 15,
   "metadata": {},
   "outputs": [],
   "source": [
    "# Constants\n",
    "PLANNING_HORIZON = 30\n",
    "NO_PARENTS = 100\n",
    "POPULATION_SIZE = 100\n",
    "NO_GENERATIONS = 100\n",
    "NO_TEAMS = 4\n",
    "TEAM_TYPES = [\"A\", \"A\", \"B\", \"B\"] # List indicating which type each team has (i.e. \"A\" or \"B\")\n",
    "MAX_DURATION = 5 * 60  # 5 minutes in seconds\n",
    "MUTATION_PROBABILITY = 0.1  # Example value, adjust as needed\n",
    "PENALTY_VALUE = 1e9\n",
    "ENGINES_TO_MAINTAIN = engines_requiring_maintenance(PLANNING_HORIZON)\n",
    "NO_ENGINES = len(ENGINES_TO_MAINTAIN)"
   ]
  },
  {
   "cell_type": "code",
   "execution_count": 16,
   "metadata": {},
   "outputs": [],
   "source": [
    "def create_initial_population():\n",
    "    \"\"\"\n",
    "    Creates a certain number of random individuals (i.e., maintenance schedules).\n",
    "    Each individual is a permutation of the list of engines requiring maintenance.\n",
    "\n",
    "    Returns:\n",
    "    - numpy array: Population containing the random individuals (i.e., maintenance schedules).\n",
    "    \"\"\"\n",
    "    population = np.zeros((POPULATION_SIZE, NO_ENGINES))\n",
    "\n",
    "    # Iterate to create a certain number of individuals in the population\n",
    "    for individual in range(POPULATION_SIZE):\n",
    "        # Each individual is a random permutation of the list of engines requiring maintenance.\n",
    "        population[individual] = ENGINES_TO_MAINTAIN.copy()\n",
    "        random.shuffle(population[individual])\n",
    "\n",
    "    return population"
   ]
  },
  {
   "cell_type": "code",
   "execution_count": 17,
   "metadata": {},
   "outputs": [],
   "source": [
    "def fitness_func(ga_instance, schedule, schedule_idx):\n",
    "    \"\"\"\n",
    "    Calculate the fitness value (i.e., total incurred costs) for a given solution.\n",
    "\n",
    "    Args:\n",
    "    - ga_instance: Instance of the GA class (required argument).\n",
    "    - schedule (numpy.ndarray): Solution representing a maintenance schedule.\n",
    "    - schedule_idx (int): Index of the schedule (i.e., individual) in the population (required argument).\n",
    "\n",
    "    Returns:\n",
    "    - float: Total incurred costs for the given schedule.\n",
    "    \"\"\"\n",
    "    total_costs = 0  # Initialize total costs counter\n",
    "    engine_idx = 0 # Start with the first engine in the schedule\n",
    "\n",
    "    # Iterate through the teams\n",
    "    for team in range(NO_TEAMS):\n",
    "        team_type = TEAM_TYPES[team]  # Get the type of the current team (i.e., \"A\" or \"B\")\n",
    "        day = 1 # Start on the first day of the team\n",
    "        \n",
    "        # Assign engines to this team until the team's schedule is full or there are no engines left\n",
    "        while day <= PLANNING_HORIZON and engine_idx < len(schedule):\n",
    "            engine = schedule[engine_idx] # Number of the engine\n",
    "            no_days = maintenance_duration[engine][team_type] # Number of days it takes to maintain the engine\n",
    "\n",
    "            if day + no_days <= PLANNING_HORIZON: # Engine fits in team's schedule\n",
    "                total_costs += cost(engine, day)  # Add the incurred costs of the engine\n",
    "                day += no_days # Increase day counter\n",
    "                engine_idx += 1 # Go to next engine in the schedule\n",
    "            else: # Engine does not fit\n",
    "                break # Go to the next team\n",
    "\n",
    "    # Add costs for engines that could not be scheduled within the available days of any team\n",
    "    while engine_idx < len(schedule):\n",
    "        engine = schedule[engine_idx] # Number of the engine\n",
    "        total_costs += cost(engine, PLANNING_HORIZON) # Add the incurred costs of the engine\n",
    "        engine_idx += 1 # Go to next engine in the schedule\n",
    "\n",
    "    return total_costs\n",
    "    "
   ]
  },
  {
   "cell_type": "code",
   "execution_count": 18,
   "metadata": {},
   "outputs": [],
   "source": [
    "def order_crossover(parents, offspring_size, ga_instance):\n",
    "    \"\"\"\n",
    "    Perform order crossover on the parents to generate offspring.\n",
    "\n",
    "    Args:\n",
    "    - parents (numpy.ndarray): Parent solutions for crossover.\n",
    "    - offspring_size (tuple): Size of the offspring population.\n",
    "    - ga_instance (pygad.GA): Instance of the GA class (required argument).\n",
    "\n",
    "    Returns:\n",
    "    - numpy.ndarray: Offspring population generated by order crossover.\n",
    "    \"\"\"\n",
    "    offspring = []\n",
    "\n",
    "    while len(offspring) < offspring_size[0]:\n",
    "        # Generate two unique random indices for selecting parents\n",
    "        idx1, idx2 = np.random.choice(len(parents), size=2, replace=False)\n",
    "\n",
    "        # Select parents using the generated indices\n",
    "        parent1 = parents[idx1, :].copy()\n",
    "        parent2 = parents[idx2, :].copy()\n",
    "\n",
    "        # Randomly select two crossover points\n",
    "        crossover_points = np.random.choice(len(parent1), size=2, replace=False)\n",
    "        crossover_point1, crossover_point2 = np.sort(crossover_points)\n",
    "\n",
    "        # Create a copy of parents to store the offspring\n",
    "        child1 = np.zeros(len(parent1))\n",
    "        child2 = np.zeros(len(parent2))\n",
    "\n",
    "        # Extract the gene segments from both parents\n",
    "        segment_from_parent1 = parent1[crossover_point1:crossover_point2]\n",
    "        segment_from_parent2 = parent2[crossover_point1:crossover_point2]\n",
    "        \n",
    "        # Transfer the gene segments to the offspring\n",
    "        child1[crossover_point1:crossover_point2] = segment_from_parent2\n",
    "        child2[crossover_point1:crossover_point2] = segment_from_parent1\n",
    "\n",
    "        # Find the missing values in child1\n",
    "        missing_values1 = [gene for gene in parent1 if gene not in segment_from_parent2]\n",
    "\n",
    "        # Find the missing values in offspring2\n",
    "        missing_values2 = [gene for gene in parent2 if gene not in segment_from_parent1]\n",
    "\n",
    "        # Insert missing values into child1 at the correct positions\n",
    "        idx1 = 0\n",
    "        for i in range(len(child1)):\n",
    "            if child1[i] == 0:\n",
    "                child1[i] = missing_values1[idx1]\n",
    "                idx1 += 1\n",
    "\n",
    "        offspring.append(child1) # Add first child to offspring\n",
    "\n",
    "        if len(offspring) >= offspring_size[0]: # Enough children have been created\n",
    "            break\n",
    "\n",
    "        # Insert missing values into child2 at the correct positions\n",
    "        idx2 = 0\n",
    "        for i in range(len(child2)):\n",
    "            if child2[i] == 0:\n",
    "                child2[i] = missing_values2[idx2]\n",
    "                idx2 += 1\n",
    "        \n",
    "        offspring.append(child2) # Add second child to offspring\n",
    "        \n",
    "    return np.array(offspring) # Numpy array is the required format for the offspring"
   ]
  },
  {
   "cell_type": "code",
   "execution_count": 19,
   "metadata": {},
   "outputs": [
    {
     "name": "stderr",
     "output_type": "stream",
     "text": [
      "/home/quintine/.pyenv/versions/3.11.5/lib/python3.11/site-packages/pygad/pygad.py:1139: UserWarning: The 'delay_after_gen' parameter is deprecated starting from PyGAD 3.3.0. To delay or pause the evolution after each generation, assign a callback function/method to the 'on_generation' parameter to adds some time delay.\n",
      "  warnings.warn(\"The 'delay_after_gen' parameter is deprecated starting from PyGAD 3.3.0. To delay or pause the evolution after each generation, assign a callback function/method to the 'on_generation' parameter to adds some time delay.\")\n"
     ]
    }
   ],
   "source": [
    "# Initialize the GA instance\n",
    "ga_instance = pygad.GA(num_generations = NO_GENERATIONS,\n",
    "                       num_parents_mating = NO_PARENTS,\n",
    "                       fitness_func = fitness_func, # Our custom fitness evaluation function\n",
    "                       sol_per_pop = POPULATION_SIZE,\n",
    "                       parent_selection_type = \"rws\", # Roulette Wheel Selection with Rank-Based Fitness Values\n",
    "                       crossover_type=order_crossover, # Our custom order crossover function\n",
    "                       mutation_type = \"swap\", # Use swap mutation to prevent duplicates engines in the schedules\n",
    "                       keep_elitism = 1, # Number of best solutions that are copied to the next generation\n",
    "                       mutation_probability=MUTATION_PROBABILITY,\n",
    "                    #    num_genes = NO_ENGINES,\n",
    "                       initial_population=create_initial_population()  # Our custom create initial population function\n",
    "                       )"
   ]
  },
  {
   "cell_type": "code",
   "execution_count": 20,
   "metadata": {},
   "outputs": [
    {
     "name": "stdout",
     "output_type": "stream",
     "text": [
      "Best solution: [ 92.  82.  36.  20.  49.  56.  91.  41.  37.  81. 100.  76.  77.  40.\n",
      "  34.  64.  61.  24.  90.  66.  35.  68.  31.  42.]\n",
      "Best solution fitness: 2515\n"
     ]
    }
   ],
   "source": [
    "# Run the GA instance for a specified number of generations\n",
    "ga_instance.run()\n",
    "\n",
    "# Retrieve the best solution found so far\n",
    "solution, solution_fitness, _ = ga_instance.best_solution()\n",
    "\n",
    "# Print or use the best solution\n",
    "print(\"Best solution:\", solution)\n",
    "print(\"Best solution fitness:\", solution_fitness)"
   ]
  },
  {
   "cell_type": "markdown",
   "metadata": {},
   "source": [
    "# Check Solution"
   ]
  },
  {
   "cell_type": "code",
   "execution_count": 21,
   "metadata": {},
   "outputs": [
    {
     "name": "stdout",
     "output_type": "stream",
     "text": [
      "The solution is a permutation (i.e., there are no duplicates):  True\n"
     ]
    }
   ],
   "source": [
    "# Check duplicates\n",
    "sorted_solution = sorted(solution)\n",
    "sorted_engines_to_maintain = sorted(ENGINES_TO_MAINTAIN)\n",
    "\n",
    "# Compare if both sorted lists are equal\n",
    "print('The solution is a permutation (i.e., there are no duplicates): ', sorted_solution == sorted_engines_to_maintain)"
   ]
  }
 ],
 "metadata": {
  "kernelspec": {
   "display_name": "Python 3",
   "language": "python",
   "name": "python3"
  },
  "language_info": {
   "codemirror_mode": {
    "name": "ipython",
    "version": 3
   },
   "file_extension": ".py",
   "mimetype": "text/x-python",
   "name": "python",
   "nbconvert_exporter": "python",
   "pygments_lexer": "ipython3",
   "version": "3.11.5"
  }
 },
 "nbformat": 4,
 "nbformat_minor": 2
}
