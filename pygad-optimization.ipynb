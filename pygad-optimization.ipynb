{
 "cells": [
  {
   "cell_type": "markdown",
   "metadata": {},
   "source": [
    "# Optimization Task"
   ]
  },
  {
   "cell_type": "code",
   "execution_count": 113,
   "metadata": {},
   "outputs": [],
   "source": [
    "# Questions:\n",
    "# - Is the penalty cost incurred every day or only once?\n",
    "# - What are the penalty costs of an engine that is not maintained at all?"
   ]
  },
  {
   "cell_type": "code",
   "execution_count": 114,
   "metadata": {},
   "outputs": [],
   "source": [
    "# MY IDEA: define the optimization problem as a permutation\n",
    "# - change individual to list of engines\n",
    "# - then it's just a permutation problem\n",
    "# first few engines are assigned to team 1 until it does not fit anymore\n",
    "# then, the next few engines are assigned to team 2 until it does not fit anymore etc.\n",
    "\n",
    "# Population: list of (no_individuals) containing schedules\n",
    "# Individual: permutation of engines requiring maintenance within the planning horizon.\n",
    "# Fitness calculation: we go through the permutation. We assign engines to the first team until it does not\n",
    "#   fit anymore. Then, we go to the next team, assign the engines from the engine where we left of, to the \n",
    "#   this next team until it does not fit etc. until we've done all teams. Then, the remaining engines are\n",
    "#   not maintained, so we just calculate their costs (not sure how high they should be -> see questions above).\n",
    "#   I think this is an optimal solution as teams A are first, and they're always more efficient than team B.\n",
    "#   Therefore, moving a team to the next team is always equally or less efficient than assigning it to the\n",
    "#   current team.\n",
    "\n",
    "# TODO:\n",
    "# - experiment with GA instance parameters -> Charlot\n",
    "# - implement output_format function -> Quintine\n",
    "# - report: 2.1.2 -> Charlot\n",
    "# - implement: Run your algorithm 30 times for at most 5 minutes, and plot the average-best-fitness -> Quintine\n"
   ]
  },
  {
   "cell_type": "code",
   "execution_count": 115,
   "metadata": {},
   "outputs": [],
   "source": [
    "# Imports\n",
    "import pandas as pd\n",
    "import random\n",
    "import numpy as np\n",
    "import pygad\n",
    "import matplotlib.pyplot as plt"
   ]
  },
  {
   "cell_type": "code",
   "execution_count": 116,
   "metadata": {},
   "outputs": [],
   "source": [
    "# Constants\n",
    "TOTAL_NO_ENGINES = 100\n",
    "T_1 = 1"
   ]
  },
  {
   "cell_type": "code",
   "execution_count": 117,
   "metadata": {},
   "outputs": [],
   "source": [
    "engines = list(range(1, TOTAL_NO_ENGINES + 1))"
   ]
  },
  {
   "cell_type": "markdown",
   "metadata": {},
   "source": [
    "## Loading Data"
   ]
  },
  {
   "cell_type": "code",
   "execution_count": 118,
   "metadata": {},
   "outputs": [
    {
     "name": "stdout",
     "output_type": "stream",
     "text": [
      "   RUL  id\n",
      "0  135   1\n",
      "1  125   2\n",
      "2   63   3\n",
      "3  100   4\n",
      "4  103   5\n"
     ]
    }
   ],
   "source": [
    "file_path = \"./data/RUL_consultancy_predictions_A3-2.csv\"\n",
    "\n",
    "# Load the CSV file into a pandas DataFrame\n",
    "df = pd.read_csv(file_path, sep=';')\n",
    "\n",
    "# Display the first few rows of the DataFrame to verify that the data was loaded correctly\n",
    "print(df.head())\n",
    "\n",
    "RUL = df.iloc[:, 0]\n",
    "# # Split the \"RUL;id\" column into two separate columns\n",
    "# df[['RUL', 'id']] = df['RUL;id'].str.split(';', expand=True)\n",
    "\n",
    "# # Convert the 'RUL' column to a dictionary with 'id' column as keys\n",
    "# RUL = dict(zip(df['id'].astype(int), df['RUL'].astype(int)))"
   ]
  },
  {
   "cell_type": "markdown",
   "metadata": {},
   "source": [
    "## Maintenance Teams"
   ]
  },
  {
   "cell_type": "code",
   "execution_count": 119,
   "metadata": {},
   "outputs": [],
   "source": [
    "maintenance_duration = {}\n",
    "\n",
    "# Define the values for μAj\n",
    "for engine in engines:\n",
    "    if 1 <= engine <= 20:\n",
    "        maintenance_duration[engine] = {'A': 4, 'B': 5}  # since μBj = μAj + 1\n",
    "    elif 21 <= engine <= 55:\n",
    "        maintenance_duration[engine] = {'A': 3, 'B': 4}  # since μBj = μAj + 1\n",
    "    elif 56 <= engine <= 80:\n",
    "        maintenance_duration[engine] = {'A': 2, 'B': 3}  # since μBj = μAj + 1\n",
    "    else:\n",
    "        maintenance_duration[engine] = {'A': 8, 'B': 9}  # since μBj = μAj + 1\n",
    "\n",
    "# Update the values for μBj based on conditions\n",
    "for engine in engines:\n",
    "    if 1 <= engine <= 25:\n",
    "        maintenance_duration[engine]['B'] = maintenance_duration[engine]['A'] + 1\n",
    "    elif 26 <= engine <= 70:\n",
    "        maintenance_duration[engine]['B'] = maintenance_duration[engine]['A'] + 2\n",
    "    else:\n",
    "        maintenance_duration[engine]['B'] = maintenance_duration[engine]['A'] + 1"
   ]
  },
  {
   "cell_type": "markdown",
   "metadata": {},
   "source": [
    "## Safety due date"
   ]
  },
  {
   "cell_type": "code",
   "execution_count": 120,
   "metadata": {},
   "outputs": [],
   "source": [
    "safety_due_date = {id_val: T_1 + rul - 1 for id_val, rul in RUL.items()}"
   ]
  },
  {
   "cell_type": "markdown",
   "metadata": {},
   "source": [
    "## Penalty costs"
   ]
  },
  {
   "cell_type": "code",
   "execution_count": 121,
   "metadata": {},
   "outputs": [],
   "source": [
    "penalty_costs = {}\n",
    "\n",
    "# Define the values for cj\n",
    "for engine in range(1, 21):\n",
    "    penalty_costs[engine] = 4\n",
    "\n",
    "for engine in range(21, 31):\n",
    "    penalty_costs[engine] = 3\n",
    "\n",
    "for engine in range(31, 46):\n",
    "    penalty_costs[engine] = 2\n",
    "\n",
    "for engine in range(46, 81):\n",
    "    penalty_costs[engine] = 5\n",
    "\n",
    "for engine in range(81, 101):\n",
    "    penalty_costs[engine] = 6\n"
   ]
  },
  {
   "cell_type": "markdown",
   "metadata": {},
   "source": [
    "## Help functions"
   ]
  },
  {
   "cell_type": "code",
   "execution_count": 122,
   "metadata": {},
   "outputs": [],
   "source": [
    "def cost(engine, day):\n",
    "    \"\"\"\n",
    "    Calculates the incurred cost when an engine is not maintained by its safety due date.\n",
    "\n",
    "    Parameters:\n",
    "    - engine: number of the engine\n",
    "    - day: current day\n",
    "\n",
    "    Returns:\n",
    "    - integer: incurred cost for the engine on the day\n",
    "    \"\"\"\n",
    "    if day > safety_due_date[engine]: # Engine is maintained too late\n",
    "        calculated_cost = penalty_costs[engine] * ((day - safety_due_date[engine]) ** 2)\n",
    "        return min(calculated_cost, 250)\n",
    "    else: # Engine is maintained on time\n",
    "        return 0"
   ]
  },
  {
   "cell_type": "code",
   "execution_count": 123,
   "metadata": {},
   "outputs": [],
   "source": [
    "def engines_requiring_maintenance(planning_horizon):\n",
    "    \"\"\"\n",
    "    Return the engines that require maintenance within the planning period.\n",
    "\n",
    "    Parameters:\n",
    "    - planning_horizon: number of days for which a maintenance schedule needs to be created\n",
    "\n",
    "    Returns:\n",
    "    - list: engines requiring maintenance\n",
    "    \"\"\"\n",
    "    engines_to_maintain = []\n",
    "    for engine_id, due_date in safety_due_date.items():\n",
    "        if due_date < planning_horizon: # TODO: smaller or smaller equal?\n",
    "            engines_to_maintain.append(engine_id)\n",
    "    return engines_to_maintain"
   ]
  },
  {
   "cell_type": "code",
   "execution_count": 124,
   "metadata": {},
   "outputs": [],
   "source": [
    "def initialize_dataframe():\n",
    "    \"\"\"\n",
    "    Initialize a DataFrame with engine numbers and set all other columns to None.\n",
    "\n",
    "    Returns:\n",
    "    - DataFrame: Initialized DataFrame containing engine numbers.\n",
    "                 Other columns ('team', 'start_date', 'end_date', 'penalty_costs')\n",
    "                 are set to None.\n",
    "    \"\"\"\n",
    "    # Create DataFrame with \"engines\" list\n",
    "    output_df = pd.DataFrame({'engine': engines})\n",
    "\n",
    "    # Set all other columns to NaN\n",
    "    output_df['team'] = None\n",
    "    output_df['start_date'] = None\n",
    "    output_df['end_date'] = None\n",
    "    output_df['penalty_costs'] = None\n",
    "\n",
    "    return output_df"
   ]
  },
  {
   "cell_type": "code",
   "execution_count": 125,
   "metadata": {},
   "outputs": [],
   "source": [
    "def add_information(dataframe, engine, team_type=None, start_day=None, end_day=None, cost=None):\n",
    "    \"\"\"\n",
    "    Add maintenance information for a specific engine to the DataFrame.\n",
    "\n",
    "    Parameters:\n",
    "    - dataframe: The DataFrame containing engine information.\n",
    "    - engine: The engine number.\n",
    "    - team_type: The type of team doing the maintenance.\n",
    "    - start_day: The start date of maintenance.\n",
    "    - end_day: The end date of maintenance.\n",
    "    - cost: The penalty costs incurred for maintenance.\n",
    "\n",
    "    Returns:\n",
    "    - DataFrame: The DataFrame with updated maintenance information for the specified engine.\n",
    "    \"\"\"\n",
    "    dataframe.loc[dataframe['engine'] == engine, 'team'] = team_type\n",
    "    dataframe.loc[dataframe['engine'] == engine, 'start_date'] = start_day\n",
    "    dataframe.loc[dataframe['engine'] == engine, 'end_date'] = end_day\n",
    "    dataframe.loc[dataframe['engine'] == engine, 'penalty_costs'] = cost\n",
    "\n",
    "    return dataframe\n"
   ]
  },
  {
   "cell_type": "markdown",
   "metadata": {},
   "source": [
    "## 2.1 Genetic Algorithm"
   ]
  },
  {
   "cell_type": "code",
   "execution_count": 126,
   "metadata": {},
   "outputs": [
    {
     "name": "stdout",
     "output_type": "stream",
     "text": [
      "Number of possible individuals 620448401733239439360000\n"
     ]
    }
   ],
   "source": [
    "# Constants\n",
    "NO_PARENTS = 100\n",
    "POPULATION_SIZE = 100\n",
    "NO_GENERATIONS = 100\n",
    "MUTATION_PROBABILITY = 0.1 \n",
    "CROSSOVER_PROBABILITY = 0.9\n",
    "PARENT_SELECTION_TYPE = \"rws\"\n",
    "MUTATION_TYPE = \"swap\"\n",
    "ELITISM = 1\n",
    "\n",
    "PLANNING_HORIZON = 30\n",
    "NO_TEAMS = 4\n",
    "TEAM_TYPES = [\"A\", \"A\", \"B\", \"B\"] # List indicating which type each team has (i.e. \"A\" or \"B\")\n",
    "MAX_DURATION = 5 * 60  # 5 minutes in seconds\n",
    "PENALTY_VALUE = 1e9\n",
    "ENGINES_TO_MAINTAIN = engines_requiring_maintenance(PLANNING_HORIZON)\n",
    "NO_ENGINES = len(ENGINES_TO_MAINTAIN)\n",
    "\n",
    "import math\n",
    "print('Number of possible individuals', math.factorial(NO_ENGINES))"
   ]
  },
  {
   "cell_type": "code",
   "execution_count": 127,
   "metadata": {},
   "outputs": [],
   "source": [
    "def create_initial_population():\n",
    "    \"\"\"\n",
    "    Creates a certain number of random individuals (i.e., maintenance schedules).\n",
    "    Each individual is a permutation of the list of engines requiring maintenance.\n",
    "\n",
    "    Returns:\n",
    "    - numpy array: Population containing the random individuals (i.e., maintenance schedules).\n",
    "    \"\"\"\n",
    "    population = np.zeros((POPULATION_SIZE, NO_ENGINES))\n",
    "\n",
    "    # Iterate to create a certain number of individuals in the population\n",
    "    for individual in range(POPULATION_SIZE):\n",
    "        # Each individual is a random permutation of the list of engines requiring maintenance.\n",
    "        population[individual] = ENGINES_TO_MAINTAIN.copy()\n",
    "        random.shuffle(population[individual])\n",
    "\n",
    "    return population"
   ]
  },
  {
   "cell_type": "code",
   "execution_count": 128,
   "metadata": {},
   "outputs": [],
   "source": [
    "def fitness_func(ga_instance, schedule, schedule_idx):\n",
    "    \"\"\"\n",
    "    Calculate the fitness value (i.e., total incurred costs) for a given solution.\n",
    "\n",
    "    Args:\n",
    "    - ga_instance: Instance of the GA class (required argument).\n",
    "    - schedule (numpy.ndarray): Solution representing a maintenance schedule.\n",
    "    - schedule_idx (int): Index of the schedule (i.e., individual) in the population (required argument).\n",
    "\n",
    "    Returns:\n",
    "    - float: Total incurred costs for the given schedule.\n",
    "    \"\"\"\n",
    "    total_costs = 0 # Initialize total costs counter\n",
    "    engine_idx = 0 # Start with the first engine in the schedule\n",
    "\n",
    "    # Iterate through the teams\n",
    "    for team in range(NO_TEAMS):\n",
    "        team_type = TEAM_TYPES[team]  # Get the type of the current team (i.e., \"A\" or \"B\")\n",
    "        day = T_1 # Start on the first day of the team\n",
    "        \n",
    "        # Assign engines to this team until the team's schedule is full or there are no engines left\n",
    "        while day <= PLANNING_HORIZON and engine_idx < len(schedule):\n",
    "            engine = schedule[engine_idx] # Number of the engine\n",
    "            no_days = maintenance_duration[engine][team_type] # Number of days it takes to maintain the engine\n",
    "\n",
    "            if day + no_days <= PLANNING_HORIZON: # Engine fits in team's schedule\n",
    "                total_costs += cost(engine, day)  # Add the incurred costs of the engine\n",
    "                day += no_days # Increase day counter\n",
    "                engine_idx += 1 # Go to next engine in the schedule\n",
    "            else: # Engine does not fit\n",
    "                break # Go to the next team\n",
    "\n",
    "    day = PLANNING_HORIZON\n",
    "\n",
    "    # Add costs for engines that could not be scheduled within the available days of any team\n",
    "    while engine_idx < len(schedule):\n",
    "        engine = schedule[engine_idx] # Number of the engine\n",
    "        # total_costs += cost(engine, PLANNING_HORIZON) # Add the incurred costs of the engine\n",
    "        total_costs += 250 # TODO: choose\n",
    "        engine_idx += 1 # Go to next engine in the schedule\n",
    "\n",
    "    return total_costs\n",
    "    "
   ]
  },
  {
   "cell_type": "code",
   "execution_count": 129,
   "metadata": {},
   "outputs": [],
   "source": [
    "def order_crossover(parents, offspring_size, ga_instance):\n",
    "    \"\"\"\n",
    "    Perform order crossover on the parents to generate offspring.\n",
    "\n",
    "    Args:\n",
    "    - parents (numpy.ndarray): Parent solutions for crossover.\n",
    "    - offspring_size (tuple): Size of the offspring population.\n",
    "    - ga_instance (pygad.GA): Instance of the GA class (required argument).\n",
    "\n",
    "    Returns:\n",
    "    - numpy.ndarray: Offspring population generated by order crossover.\n",
    "    \"\"\"\n",
    "    offspring = []\n",
    "\n",
    "    while len(offspring) < offspring_size[0]:\n",
    "        # Generate two unique random indices for selecting parents\n",
    "        idx1, idx2 = np.random.choice(len(parents), size=2, replace=False)\n",
    "\n",
    "        # Select parents using the generated indices\n",
    "        parent1 = parents[idx1, :].copy()\n",
    "        parent2 = parents[idx2, :].copy()\n",
    "\n",
    "        # Randomly select two crossover points\n",
    "        crossover_points = np.random.choice(len(parent1), size=2, replace=False)\n",
    "        crossover_point1, crossover_point2 = np.sort(crossover_points)\n",
    "\n",
    "        # Create a copy of parents to store the offspring\n",
    "        child1 = np.zeros(len(parent1))\n",
    "        child2 = np.zeros(len(parent2))\n",
    "\n",
    "        # Extract the gene segments from both parents\n",
    "        segment_from_parent1 = parent1[crossover_point1:crossover_point2]\n",
    "        segment_from_parent2 = parent2[crossover_point1:crossover_point2]\n",
    "        \n",
    "        # Transfer the gene segments to the offspring\n",
    "        child1[crossover_point1:crossover_point2] = segment_from_parent2\n",
    "        child2[crossover_point1:crossover_point2] = segment_from_parent1\n",
    "\n",
    "        # Find the missing values in child1\n",
    "        missing_values1 = [gene for gene in parent1 if gene not in segment_from_parent2]\n",
    "\n",
    "        # Find the missing values in offspring2\n",
    "        missing_values2 = [gene for gene in parent2 if gene not in segment_from_parent1]\n",
    "\n",
    "        # Insert missing values into child1 at the correct positions\n",
    "        idx1 = 0\n",
    "        for i in range(len(child1)):\n",
    "            if child1[i] == 0:\n",
    "                child1[i] = missing_values1[idx1]\n",
    "                idx1 += 1\n",
    "\n",
    "        offspring.append(child1) # Add first child to offspring\n",
    "\n",
    "        if len(offspring) >= offspring_size[0]: # Enough children have been created\n",
    "            break\n",
    "\n",
    "        # Insert missing values into child2 at the correct positions\n",
    "        idx2 = 0\n",
    "        for i in range(len(child2)):\n",
    "            if child2[i] == 0:\n",
    "                child2[i] = missing_values2[idx2]\n",
    "                idx2 += 1\n",
    "        \n",
    "        offspring.append(child2) # Add second child to offspring\n",
    "        \n",
    "    return np.array(offspring) # Numpy array is the required format for the offspring"
   ]
  },
  {
   "cell_type": "code",
   "execution_count": 135,
   "metadata": {},
   "outputs": [],
   "source": [
    "def create_instance():\n",
    "    \"\"\"\n",
    "    Create and initialize a GA instance with specified parameters.\n",
    "    \n",
    "    Returns:\n",
    "    - pygad.GA: Initialized GA instance.\n",
    "    \"\"\"\n",
    "    # Initialize the GA instance\n",
    "    ga_instance = pygad.GA(num_generations=NO_GENERATIONS,\n",
    "                           num_parents_mating=NO_PARENTS,\n",
    "                           fitness_func=fitness_func,  # Our custom fitness evaluation function\n",
    "                           sol_per_pop=POPULATION_SIZE,\n",
    "                           parent_selection_type=PARENT_SELECTION_TYPE,  # Roulette Wheel Selection with Rank-Based Fitness Values\n",
    "                           crossover_type=order_crossover,  # Our custom order crossover function\n",
    "                           mutation_type=MUTATION_TYPE,  # Use swap mutation to prevent duplicate engines in the schedules\n",
    "                           keep_elitism=ELITISM,  # Number of best solutions that are copied to the next generation\n",
    "                           mutation_probability=MUTATION_PROBABILITY,\n",
    "                           crossover_probability=CROSSOVER_PROBABILITY,\n",
    "                           initial_population=create_initial_population(),  # Our custom create initial population function\n",
    "                           num_genes=NO_ENGINES\n",
    "                           )\n",
    "    return ga_instance"
   ]
  },
  {
   "cell_type": "markdown",
   "metadata": {},
   "source": [
    "### Transform to correct output format"
   ]
  },
  {
   "cell_type": "code",
   "execution_count": 131,
   "metadata": {},
   "outputs": [],
   "source": [
    "def output_format(solution):\n",
    "    \"\"\"\n",
    "    Transform solution to the correct output format.\n",
    "\n",
    "    Parameters:\n",
    "    - solution: Permutation of machines maintained.\n",
    "\n",
    "    Returns:\n",
    "    - list: all machines, indicating for any maintained machine the type of\n",
    "    the team doing the maintenance, start-date, and end-date of the maintenance, \n",
    "    as well as the penalty costs incurred by that machine\n",
    "    \"\"\"\n",
    "    output_df = initialize_dataframe()\n",
    "    engine_idx = 0 # Start with the first engine in the solution\n",
    "\n",
    "    # Iterate through the teams\n",
    "    for team in range(NO_TEAMS):\n",
    "        team_type = TEAM_TYPES[team]  # Get the type of the current team (i.e., \"A\" or \"B\")\n",
    "        day = T_1 # Start on the first day of the team\n",
    "        \n",
    "        # Assign engines to this team until the team's schedule is full or there are no engines left\n",
    "        while day <= PLANNING_HORIZON and engine_idx < len(solution):\n",
    "            engine = solution[engine_idx] # Number of the engine\n",
    "            no_days = maintenance_duration[engine][team_type] # Number of days it takes to maintain the engine\n",
    "\n",
    "            if day + no_days <= PLANNING_HORIZON: # Engine fits in team's schedule\n",
    "                incurred_cost = cost(engine, day) # Incurred cost of the engine\n",
    "                output_df = add_information(output_df, engine, team_type, day, day + no_days, incurred_cost)\n",
    "                day += no_days # Increase day counter\n",
    "                engine_idx += 1 # Go to next engine in the schedule\n",
    "            else: # Engine does not fit\n",
    "                break # Go to the next team\n",
    "\n",
    "    # Add costs for engines that could not be scheduled within the available days of any team\n",
    "    while engine_idx < len(solution):\n",
    "        engine = solution[engine_idx] # Number of the engine\n",
    "        # incurred_cost += cost(engine, PLANNING_HORIZON) # Add the incurred costs of the engine\n",
    "        incurred_cost = 250 # TODO: choose\n",
    "        output_df = add_information(output_df, engine, cost=incurred_cost)\n",
    "        engine_idx += 1 # Go to next engine in the schedule\n",
    "\n",
    "    return output_df"
   ]
  },
  {
   "cell_type": "markdown",
   "metadata": {},
   "source": [
    "## 2.2 Optimization"
   ]
  },
  {
   "cell_type": "markdown",
   "metadata": {},
   "source": [
    "### Best found solution (runtime of max. 5 minutes)"
   ]
  },
  {
   "cell_type": "code",
   "execution_count": 138,
   "metadata": {},
   "outputs": [
    {
     "name": "stderr",
     "output_type": "stream",
     "text": [
      "/home/quintine/.pyenv/versions/3.11.5/lib/python3.11/site-packages/pygad/pygad.py:1139: UserWarning: The 'delay_after_gen' parameter is deprecated starting from PyGAD 3.3.0. To delay or pause the evolution after each generation, assign a callback function/method to the 'on_generation' parameter to adds some time delay.\n",
      "  warnings.warn(\"The 'delay_after_gen' parameter is deprecated starting from PyGAD 3.3.0. To delay or pause the evolution after each generation, assign a callback function/method to the 'on_generation' parameter to adds some time delay.\")\n"
     ]
    }
   ],
   "source": [
    "# Run the GA instance for a specified number of generations\n",
    "ga_instance = create_instance()\n",
    "ga_instance.run()\n",
    "\n",
    "# Retrieve the best solution found so far\n",
    "solution, solution_fitness, _ = ga_instance.best_solution()"
   ]
  },
  {
   "cell_type": "code",
   "execution_count": 139,
   "metadata": {},
   "outputs": [
    {
     "name": "stdout",
     "output_type": "stream",
     "text": [
      "Best solution:\n",
      "     engine  team start_date end_date penalty_costs\n",
      "0        1  None       None     None          None\n",
      "1        2  None       None     None          None\n",
      "2        3  None       None     None          None\n",
      "3        4  None       None     None          None\n",
      "4        5  None       None     None          None\n",
      "..     ...   ...        ...      ...           ...\n",
      "95      96  None       None     None          None\n",
      "96      97  None       None     None          None\n",
      "97      98  None       None     None          None\n",
      "98      99     A         11       19             0\n",
      "99     100  None       None     None          None\n",
      "\n",
      "[100 rows x 5 columns]\n",
      "Best solution fitness: 2424\n"
     ]
    }
   ],
   "source": [
    "# Print or use the best solution\n",
    "print(\"Best solution:\\n\", output_format(solution))\n",
    "print(\"Best solution fitness:\", solution_fitness)"
   ]
  },
  {
   "cell_type": "markdown",
   "metadata": {},
   "source": [
    "### Average-best-fitness (run 30 times for max. 5 minutes)"
   ]
  },
  {
   "cell_type": "code",
   "execution_count": 140,
   "metadata": {},
   "outputs": [
    {
     "name": "stderr",
     "output_type": "stream",
     "text": [
      "/home/quintine/.pyenv/versions/3.11.5/lib/python3.11/site-packages/pygad/pygad.py:1139: UserWarning: The 'delay_after_gen' parameter is deprecated starting from PyGAD 3.3.0. To delay or pause the evolution after each generation, assign a callback function/method to the 'on_generation' parameter to adds some time delay.\n",
      "  warnings.warn(\"The 'delay_after_gen' parameter is deprecated starting from PyGAD 3.3.0. To delay or pause the evolution after each generation, assign a callback function/method to the 'on_generation' parameter to adds some time delay.\")\n"
     ]
    },
    {
     "data": {
      "image/png": "[encoded data removed]",
      "text/plain": [
       "<Figure size 640x480 with 1 Axes>"
      ]
     },
     "metadata": {},
     "output_type": "display_data"
    },
    {
     "name": "stdout",
     "output_type": "stream",
     "text": [
      "Average Best Fitness over 30 runs: 2575.9333333333334\n"
     ]
    }
   ],
   "source": [
    "# Number of runs\n",
    "num_runs = 30\n",
    "\n",
    "# Initialize an empty list to store the best fitness values\n",
    "best_fitness_values = []\n",
    "\n",
    "for _ in range(num_runs):\n",
    "    # Run a GA instance for a specified number of generations\n",
    "    ga_instance = create_instance()\n",
    "    ga_instance.run()\n",
    "\n",
    "    # Retrieve the best solution found so far\n",
    "    _, solution_fitness, _ = ga_instance.best_solution()\n",
    "\n",
    "    # Append the best fitness value to the list\n",
    "    best_fitness_values.append(solution_fitness)\n",
    "\n",
    "# Calculate the average best fitness value\n",
    "average_best_fitness = np.mean(best_fitness_values)\n",
    "\n",
    "# Plot the average best fitness value\n",
    "plt.plot(range(1, num_runs + 1), best_fitness_values, marker='o')\n",
    "plt.axhline(y=average_best_fitness, color='r', linestyle='--', label='Average Best Fitness')\n",
    "plt.xlabel('Run')\n",
    "plt.ylabel('Best Fitness')\n",
    "plt.title('Average Best Fitness over Runs')\n",
    "plt.legend()\n",
    "plt.show()\n",
    "\n",
    "# Print the average best fitness value\n",
    "print(\"Average Best Fitness over\", num_runs, \"runs:\", average_best_fitness)"
   ]
  }
 ],
 "metadata": {
  "kernelspec": {
   "display_name": "Python 3",
   "language": "python",
   "name": "python3"
  },
  "language_info": {
   "codemirror_mode": {
    "name": "ipython",
    "version": 3
   },
   "file_extension": ".py",
   "mimetype": "text/x-python",
   "name": "python",
   "nbconvert_exporter": "python",
   "pygments_lexer": "ipython3",
   "version": "3.11.5"
  }
 },
 "nbformat": 4,
 "nbformat_minor": 2
}
