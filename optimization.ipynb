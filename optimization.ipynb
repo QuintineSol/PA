{
 "cells": [
  {
   "cell_type": "markdown",
   "metadata": {},
   "source": [
    "# Optimization Task"
   ]
  },
  {
   "cell_type": "code",
   "execution_count": 3,
   "metadata": {},
   "outputs": [],
   "source": [
    "# Questions:\n",
    "# - Is the penalty cost incurred every day or only when the maintenance is being done?"
   ]
  },
  {
   "cell_type": "code",
   "execution_count": null,
   "metadata": {},
   "outputs": [],
   "source": [
    "# TODO:\n",
    "# - set seed?"
   ]
  },
  {
   "cell_type": "code",
   "execution_count": 4,
   "metadata": {},
   "outputs": [],
   "source": [
    "# Imports\n",
    "import pandas as pd\n",
    "import math\n",
    "import random"
   ]
  },
  {
   "cell_type": "markdown",
   "metadata": {},
   "source": [
    "## Global Variables"
   ]
  },
  {
   "cell_type": "code",
   "execution_count": 17,
   "metadata": {},
   "outputs": [],
   "source": [
    "total_no_engines = 100\n",
    "teams = [\"A\", \"A\", \"B\", \"B\"]\n",
    "# no_teams = 4\n",
    "# a_teams = 2\n",
    "# b_teams = 2\n",
    "\n",
    "engines = list(range(1, total_no_engines + 1))"
   ]
  },
  {
   "cell_type": "markdown",
   "metadata": {},
   "source": [
    "## Loading Data"
   ]
  },
  {
   "cell_type": "code",
   "execution_count": 5,
   "metadata": {},
   "outputs": [
    {
     "name": "stdout",
     "output_type": "stream",
     "text": [
      "  RUL;id\n",
      "0  135;1\n",
      "1  125;2\n",
      "2   63;3\n",
      "3  100;4\n",
      "4  103;5\n"
     ]
    }
   ],
   "source": [
    "file_path = \"./data/RUL_consultancy_predictions_A3-2.csv\"\n",
    "\n",
    "# Load the CSV file into a pandas DataFrame\n",
    "df = pd.read_csv(file_path)\n",
    "\n",
    "# Display the first few rows of the DataFrame to verify that the data was loaded correctly\n",
    "print(df.head())\n",
    "\n",
    "# Split the \"RUL;id\" column into two separate columns\n",
    "df[['RUL', 'id']] = df['RUL;id'].str.split(';', expand=True)\n",
    "\n",
    "# Convert the 'RUL' column to a dictionary with 'id' column as keys\n",
    "RUL = dict(zip(df['id'].astype(int), df['RUL'].astype(int)))\n",
    "\n",
    "# print(RUL)\n"
   ]
  },
  {
   "cell_type": "markdown",
   "metadata": {},
   "source": [
    "## Maintenance Teams"
   ]
  },
  {
   "cell_type": "code",
   "execution_count": 7,
   "metadata": {},
   "outputs": [],
   "source": [
    "\n",
    "maintenance_duration = {}\n",
    "\n",
    "# Define the values for μAj\n",
    "for engine in engines:\n",
    "    if 1 <= engine <= 20:\n",
    "        maintenance_duration[engine] = {'A': 4, 'B': 5}  # since μBj = μAj + 1\n",
    "    elif 21 <= engine <= 55:\n",
    "        maintenance_duration[engine] = {'A': 3, 'B': 4}  # since μBj = μAj + 1\n",
    "    elif 56 <= engine <= 80:\n",
    "        maintenance_duration[engine] = {'A': 2, 'B': 3}  # since μBj = μAj + 1\n",
    "    else:\n",
    "        maintenance_duration[engine] = {'A': 8, 'B': 9}  # since μBj = μAj + 1\n",
    "\n",
    "# Update the values for μBj based on conditions\n",
    "for engine in engines:\n",
    "    if 1 <= engine <= 25:\n",
    "        maintenance_duration[engine]['B'] = maintenance_duration[engine]['A'] + 1\n",
    "    elif 26 <= engine <= 70:\n",
    "        maintenance_duration[engine]['B'] = maintenance_duration[engine]['A'] + 2\n",
    "    else:\n",
    "        maintenance_duration[engine]['B'] = maintenance_duration[engine]['A'] + 1\n",
    "\n",
    "# Print the dictionary to see the values\n",
    "# for engine in engines:\n",
    "#     print(f\"Index engine={engine}: A={maintenance_duration[engine]['A']}, B={maintenance_duration[engine]['B']}\")\n",
    "\n"
   ]
  },
  {
   "cell_type": "markdown",
   "metadata": {},
   "source": [
    "## Safety due date"
   ]
  },
  {
   "cell_type": "code",
   "execution_count": 16,
   "metadata": {},
   "outputs": [],
   "source": [
    "t_1 = 1\n",
    "safety_due_date = {id_val: t_1 + rul - 1 for id_val, rul in RUL.items()}\n",
    "# print(safety_due_date)"
   ]
  },
  {
   "cell_type": "markdown",
   "metadata": {},
   "source": [
    "## Penalty costs"
   ]
  },
  {
   "cell_type": "code",
   "execution_count": 9,
   "metadata": {},
   "outputs": [],
   "source": [
    "penalty_costs = {}\n",
    "\n",
    "# Define the values for cj\n",
    "for engine in range(1, 21):\n",
    "    penalty_costs[engine] = 4\n",
    "\n",
    "for engine in range(21, 31):\n",
    "    penalty_costs[engine] = 3\n",
    "\n",
    "for engine in range(31, 46):\n",
    "    penalty_costs[engine] = 2\n",
    "\n",
    "for engine in range(46, 81):\n",
    "    penalty_costs[engine] = 5\n",
    "\n",
    "for engine in range(81, 101):\n",
    "    penalty_costs[engine] = 6\n",
    "\n",
    "# Print the dictionary to see the values\n",
    "# for engine, cost in penalty_costs.items():\n",
    "#     print(f\"Index engine={engine}: cost={cost}\")\n"
   ]
  },
  {
   "cell_type": "markdown",
   "metadata": {},
   "source": [
    "## Help functions"
   ]
  },
  {
   "cell_type": "code",
   "execution_count": 10,
   "metadata": {},
   "outputs": [],
   "source": [
    "def cost(engine, day):\n",
    "    \"\"\"\n",
    "    Calculates the incurred cost when an engine is not maintained by its safety due date.\n",
    "\n",
    "    Parameters:\n",
    "    - engine: number of the engine\n",
    "    - day: current day\n",
    "\n",
    "    Returns:\n",
    "    - integer: incurred cost for the engine on the day\n",
    "    \"\"\"\n",
    "    calculated_cost = penalty_costs[engine] * ((day - safety_due_date[engine]) ** 2)\n",
    "    return min(calculated_cost, 250)"
   ]
  },
  {
   "cell_type": "code",
   "execution_count": 11,
   "metadata": {},
   "outputs": [],
   "source": [
    "def update_safety_due_date(planning_horizon, engine):\n",
    "    \"\"\"\n",
    "    Update safety due date after maintenance has been performed on the engine.\n",
    "    An engine can only \"fail\" once during the planning period. Hence, \n",
    "    we make sure it exceeds the planning horizon.\n",
    "\n",
    "    Parameters:\n",
    "    - planning_horizon: number of days for which a maintenance schedule needs to be created\n",
    "    - engine: number of the engine\n",
    "    \"\"\"\n",
    "    safety_due_date[engine] = planning_horizon + 1"
   ]
  },
  {
   "cell_type": "code",
   "execution_count": 12,
   "metadata": {},
   "outputs": [],
   "source": [
    "def complete_on_time(team, engine, start_day, planning_horizon):\n",
    "    \"\"\"\n",
    "    Checks if the maintenance can be performed by the team on the engine within the planning period.\n",
    "\n",
    "    Parameters:\n",
    "    - team: \"A\" or \"B\" indicating the type of team\n",
    "    - engine: number of the engine\n",
    "    - start_day: day when the maintenance is started\n",
    "    - planning_horizon: number of days for which a maintenance schedule needs to be created\n",
    "\n",
    "    Returns:\n",
    "    - boolean: whether the maintenance can be performed within the planning horizon by the team on the engine\n",
    "    \"\"\"\n",
    "    return start_day + maintenance_duration[engine][team] - 1 <= planning_horizon    "
   ]
  },
  {
   "cell_type": "code",
   "execution_count": 25,
   "metadata": {},
   "outputs": [],
   "source": [
    "def engines_requiring_maintenance(planning_horizon):\n",
    "    \"\"\"\n",
    "    Return the engines that require maintenance within the planning period.\n",
    "\n",
    "    Parameters:\n",
    "    - planning_horizon: number of days for which a maintenance schedule needs to be created\n",
    "\n",
    "    Returns:\n",
    "    - list: engines requiring maintenance\n",
    "    \"\"\"\n",
    "    engines_to_maintain = []\n",
    "    for engine_id, due_date in safety_due_date.items():\n",
    "        if due_date <= planning_horizon:\n",
    "            engines_to_maintain.append(engine_id)\n",
    "    return engines_to_maintain"
   ]
  },
  {
   "cell_type": "code",
   "execution_count": 21,
   "metadata": {},
   "outputs": [],
   "source": [
    "def leftover_days(planning_horizon, schedule):\n",
    "    \"\"\"\n",
    "    Calculates how many days each team still has to perform maintenance given the current schedule.\n",
    "\n",
    "    Parameters:\n",
    "    - planning_horizon: number of days for which a maintenance schedule needs to be created\n",
    "    - schedule: nested list of engines maintained by each team\n",
    "\n",
    "    Returns:\n",
    "    - nested list: number of days left for each team\n",
    "    \"\"\"\n",
    "    # Initialize a list to store the leftover time for each team\n",
    "    days_left = [planning_horizon] * len(schedule)\n",
    "    \n",
    "    # Iterate through each team in the schedule\n",
    "    for team_index in range(len(schedule)):\n",
    "        # Iterate through each engine in the team's schedule\n",
    "        for engine in schedule[team_index]:\n",
    "            # Subtract the maintenance duration of the engine from the team's number of days left\n",
    "            days_left[team_index] -= maintenance_duration[engine][teams[team_index]]\n",
    "    \n",
    "    return days_left"
   ]
  },
  {
   "cell_type": "code",
   "execution_count": 32,
   "metadata": {},
   "outputs": [],
   "source": [
    "def available_teams(days_left, engine):\n",
    "    \"\"\"\n",
    "    Returns a list of team indices that still have enough days left to perform\n",
    "    maintenance on the engine.\n",
    "\n",
    "    Parameters:\n",
    "    - days_left: list containing the number of days each team has left\n",
    "    - engine: number of the engine that needs to be maintained\n",
    "\n",
    "    Returns:\n",
    "    - list: numbers of the teams that are able to perform the maintenance\n",
    "    \"\"\"\n",
    "    # Initialize a list to store indices of teams in which the maintenance still fits\n",
    "    team_indices = []\n",
    "\n",
    "    # Iterate through each team\n",
    "    for team_index in range(len(days_left)):\n",
    "        # Get the team type (i.e. \"A\" or \"B\")\n",
    "        team_type = teams[team_index]\n",
    "        \n",
    "        # Check if the team has enough time left to perform maintenance on the engine\n",
    "        if days_left[team_index] >= maintenance_duration[engine][team_type]:\n",
    "            # Add the team index to the list of fitting teams\n",
    "            team_indices.append(team_index)\n",
    "    \n",
    "    return team_indices"
   ]
  },
  {
   "cell_type": "code",
   "execution_count": 50,
   "metadata": {},
   "outputs": [],
   "source": [
    "# Quintine\n",
    "def feasible(planning_horizon, schedule):\n",
    "    \"\"\"\n",
    "    Determines if the schedule is feasible.\n",
    "    \n",
    "    Parameters:\n",
    "    - planning_horizon: number of days for which a maintenance schedule needs to be created\n",
    "    - schedule: nested list of engines maintained by each team\n",
    "\n",
    "    Returns:\n",
    "    - bool: whether each team can maintain their assigned engines within the planning horizon\n",
    "    \"\"\"\n",
    "    return all(team_days_left >= 0 for team_days_left in leftover_days(planning_horizon, schedule))\n"
   ]
  },
  {
   "cell_type": "markdown",
   "metadata": {},
   "source": [
    "## Genetic Algorithm"
   ]
  },
  {
   "cell_type": "code",
   "execution_count": 49,
   "metadata": {},
   "outputs": [],
   "source": [
    "# Quintine\n",
    "def create_random_individuals(no_individuals, planning_horizon):\n",
    "    \"\"\"\n",
    "    Creates a certain number of random individuals.\n",
    "\n",
    "    Parameters:\n",
    "    - no_individuals: number of random individuals that are created\n",
    "    - planning_horizon: number of days for which a maintenance schedule needs to be created\n",
    "\n",
    "    Returns:\n",
    "    - list: population containing the random individuals\n",
    "    - list: engines that required maintenance but could not be maintained\n",
    "    \"\"\"\n",
    "    # Find engines that require maintenance within the planning horizon\n",
    "    engines_to_maintain = engines_requiring_maintenance(planning_horizon)\n",
    "    \n",
    "    # Initialize an empty schedule for each team\n",
    "    schedule = [[] for _ in range(len(teams))]\n",
    "\n",
    "    # Initialize a list to store engines that could not be maintained\n",
    "    unmaintained_engines = []\n",
    "\n",
    "    while len(engines_to_maintain) > 0:\n",
    "        # Randomly select an engine\n",
    "        engine = random.choice(engines_to_maintain)\n",
    "        \n",
    "        # Determine how many days each team has left to perform maintenance\n",
    "        days_left = leftover_days(planning_horizon, schedule)\n",
    "\n",
    "        # Find teams that still have enough number of days left to maintain this engine\n",
    "        fitting_teams = available_teams(days_left, engine)\n",
    "\n",
    "        # If there are fitting teams, randomly select one of them and assign the engine\n",
    "        if len(fitting_teams) > 0:\n",
    "            team = random.choice(fitting_teams)\n",
    "            schedule[team].append(engine)\n",
    "            engines_to_maintain.remove(engine)\n",
    "        else:\n",
    "            # If no fitting teams are found, add the engine to the list of unmaintained engines\n",
    "            unmaintained_engines.append(engine)\n",
    "\n",
    "    return schedule, unmaintained_engines"
   ]
  },
  {
   "cell_type": "code",
   "execution_count": null,
   "metadata": {},
   "outputs": [],
   "source": [
    "# Charlot\n",
    "\n",
    "def fitness(maintenance_schedule):\n",
    "    \"\"\"\n",
    "    Calculates the total incurred costs based on the maintenance schedule for each machine.\n",
    "\n",
    "    Parameters:\n",
    "    - maintenance_schedule (dict): A dictionary where keys represent engines and values represent lists of maintenance information.\n",
    "    \n",
    "    Returns:\n",
    "    - int: Value representing the total incurred costs for all engine's maintenance schedules.\n",
    "    \"\"\"\n",
    "    total_cost_all_engines = 0\n",
    "\n",
    "    for engine_maintenance in maintenance_schedule.values():\n",
    "        for task in engine_maintenance:\n",
    "            total_cost_all_engines += task['cost']\n",
    "\n",
    "    return total_cost_all_engines"
   ]
  },
  {
   "cell_type": "code",
   "execution_count": null,
   "metadata": {},
   "outputs": [
    {
     "name": "stdout",
     "output_type": "stream",
     "text": [
      "3700\n"
     ]
    }
   ],
   "source": [
    "# Example of use fitness function\n",
    "\n",
    "maintenance_data_test = {\n",
    "    'Machine1': [\n",
    "        {\n",
    "            'team_type': 'A',\n",
    "            'start_day': 1,\n",
    "            'end_day': 10,\n",
    "            'cost': 1000\n",
    "        },\n",
    "        {\n",
    "            'team_type': 'B',\n",
    "            'start_day': 2,\n",
    "            'end_day': 15,\n",
    "            'cost': 1500\n",
    "        }\n",
    "    ],\n",
    "    'Machine2': [\n",
    "        {\n",
    "            'team_type': 'Team C',\n",
    "            'start_date': '2024-01-15',\n",
    "            'end_date': '2024-01-20',\n",
    "            'cost': 1200\n",
    "        }\n",
    "    ],\n",
    "}\n",
    "\n",
    "fitness_cost = fitness(maintenance_data_test)\n",
    "print(fitness_cost)"
   ]
  },
  {
   "cell_type": "code",
   "execution_count": null,
   "metadata": {},
   "outputs": [],
   "source": [
    "minimum_cost = math.inf\n",
    "best_maintenance_schedule_index = None\n",
    "patience = 5\n",
    "runs_since_best_fitness = 0\n",
    "\n",
    "def check_termination_criterion(total_cost_all_engines, schedule_index):\n",
    "    \"\"\"\n",
    "    Checks if the optimal fitness value has been observed based on the exploration-exploitation trade-off. If so, the corresponding maintenance schedule index is returned.\n",
    "\n",
    "    Parameters:\n",
    "    - total_cost_all_engines (int): Value representing the total incurred costs for a maintenance schedule.\n",
    "    - schedule_index (int): Index representing the current maintenance schedule being evaluated.\n",
    "    \n",
    "    Returns:\n",
    "    - int or None: The index of the maintenance schedule with the best fitness value observed so far, or None if termination criterion is not met.\n",
    "    \"\"\"\n",
    "    global minimum_cost, best_maintenance_schedule_index, runs_since_best_fitness\n",
    "    \n",
    "    if total_cost_all_engines < minimum_cost:\n",
    "        minimum_cost = total_cost_all_engines\n",
    "        best_maintenance_schedule_index = schedule_index\n",
    "        runs_since_best_fitness = 0\n",
    "    else:\n",
    "        runs_since_best_fitness += 1\n",
    "        if runs_since_best_fitness > patience:\n",
    "            return best_maintenance_schedule_index  # Termination criterion met\n",
    "        \n",
    "    return best_maintenance_schedule_index  # Termination criterion not met yet"
   ]
  },
  {
   "cell_type": "code",
   "execution_count": null,
   "metadata": {},
   "outputs": [
    {
     "name": "stdout",
     "output_type": "stream",
     "text": [
      "1\n"
     ]
    }
   ],
   "source": [
    "# Example usage of the check_termination_criterion function\n",
    "example_costs_maintenance_schedules = [3000, 2000, 7000, 6500, 5000, 2500, 6090, 7654]\n",
    "best_individual_maintenance_schedule_index = None\n",
    "\n",
    "for index,  cost in enumerate(example_costs_maintenance_schedules):\n",
    "    best_individual_maintenance_schedule_index = check_termination_criterion(cost, index)\n",
    "print(best_individual_maintenance_schedule_index)"
   ]
  },
  {
   "cell_type": "code",
   "execution_count": null,
   "metadata": {},
   "outputs": [],
   "source": [
    "# Charlot\n",
    "def select_parents(maintenance_schedules):\n",
    "    \"\"\"\n",
    "    Selects parents using the ranking selection method.\n",
    "\n",
    "    Parameters:\n",
    "    - maintenance_schedules (dict): Dictionary where keys represent individuals and values represent maintenance schedules.\n",
    "\n",
    "    Returns:\n",
    "    - dict: Selected maintenance schedule.\n",
    "    \"\"\"\n",
    "    # Calculate fitness for each maintenance schedule and add to the maintenance schedule\n",
    "    for maintenance_schedule in maintenance_schedules.values():\n",
    "        maintenance_schedule['fitness'] = fitness(maintenance_schedule)\n",
    "\n",
    "    # Sort the maintenance schedules based on their fitness values in ascending order. -> low fitness vallue is best\n",
    "    ranked_maintenance_schedules = sorted(maintenance_schedules.items(), key=lambda individual_schedule_pair: individual_schedule_pair[1]['fitness'])\n",
    "\n",
    "    # Calculate the total sum of ranks, used to normalize the probabilities for each maintenance schedule.\n",
    "    total_rank_sum = sum(1 / (rank + 1) for rank in range(len(ranked_maintenance_schedules)))\n",
    "\n",
    "    # Calculate probabilities for each individual based on their rank and normalize by total_rank_sum. Here the index is the rank\n",
    "    # probabilities is therefore a dict with the index of the maintenance_schedules and there probability of being selected. \n",
    "    # {2: 0.6666666666666666, 1: 0.3333333333333333} for the example below\n",
    "    probabilities = {maintenance_schedule_id: 1 / (rank + 1) / total_rank_sum for rank, (maintenance_schedule_id, _) in enumerate(ranked_maintenance_schedules)}\n",
    "\n",
    "    # Select a random number between 0 and 1\n",
    "    random_number = random.random()\n",
    "\n",
    "    # Iterate through maintenance schedules and select one based on probabilities\n",
    "    cumulative_probability = 0\n",
    "    #  In the ranking selection method, the probability of selecting a particular maintenance schedule is not directly used for comparison with the random number. \n",
    "    # Instead, we use the cumulative probabilities to create ranges that the random number falls into.\n",
    "    for maintenance_schedule_id, _ in ranked_maintenance_schedules:\n",
    "        cumulative_probability += probabilities[maintenance_schedule_id]\n",
    "        if random_number <= cumulative_probability:\n",
    "            return maintenance_schedules[maintenance_schedule_id]"
   ]
  },
  {
   "cell_type": "code",
   "execution_count": null,
   "metadata": {},
   "outputs": [
    {
     "name": "stdout",
     "output_type": "stream",
     "text": [
      "{'Machine1': [{'team_type': 'A', 'start_day': 1, 'end_day': 10, 'cost': 300}], 'Machine2': [{'team_type': 'Team C', 'start_date': '2024-01-15', 'end_date': '2024-01-20', 'cost': 120}], 'fitness': 420}\n"
     ]
    }
   ],
   "source": [
    "# Example usage\n",
    "maintenance_schedules = {\n",
    "    1: {\n",
    "        'Machine1': [\n",
    "            {\n",
    "                'team_type': 'A',\n",
    "                'start_day': 1,\n",
    "                'end_day': 10,\n",
    "                'cost': 1000\n",
    "            },\n",
    "            {\n",
    "                'team_type': 'B',\n",
    "                'start_day': 2,\n",
    "                'end_day': 15,\n",
    "                'cost': 1500\n",
    "            }\n",
    "        ],\n",
    "        'Machine2': [\n",
    "            {\n",
    "                'team_type': 'Team C',\n",
    "                'start_date': '2024-01-15',\n",
    "                'end_date': '2024-01-20',\n",
    "                'cost': 1200\n",
    "            }\n",
    "        ]\n",
    "    },\n",
    "    2: {\n",
    "        'Machine1': [\n",
    "            {\n",
    "                'team_type': 'A',\n",
    "                'start_day': 1,\n",
    "                'end_day': 10,\n",
    "                'cost': 300\n",
    "            }\n",
    "        ],\n",
    "        'Machine2': [\n",
    "            {\n",
    "                'team_type': 'Team C',\n",
    "                'start_date': '2024-01-15',\n",
    "                'end_date': '2024-01-20',\n",
    "                'cost': 120\n",
    "            }\n",
    "        ]\n",
    "    },\n",
    "}\n",
    "\n",
    "selected_schedule = select_parents(maintenance_schedules)\n",
    "print(selected_schedule)"
   ]
  },
  {
   "cell_type": "code",
   "execution_count": null,
   "metadata": {},
   "outputs": [],
   "source": [
    "def crossover():\n",
    "    return"
   ]
  },
  {
   "cell_type": "code",
   "execution_count": null,
   "metadata": {},
   "outputs": [],
   "source": [
    "def mutation():\n",
    "    return"
   ]
  },
  {
   "cell_type": "code",
   "execution_count": null,
   "metadata": {},
   "outputs": [],
   "source": [
    "def new_offspring():\n",
    "    return"
   ]
  },
  {
   "cell_type": "code",
   "execution_count": null,
   "metadata": {},
   "outputs": [],
   "source": [
    "planning_horizon = 30\n",
    "maintenance_schedule = dict()\n",
    "\n",
    "# Structure\n",
    "# maintenance_data = {\n",
    "#     'Machine1': [\n",
    "#         {\n",
    "#             'team_type': 'A',\n",
    "#             'start_day': 1,\n",
    "#             'end_day': 10,\n",
    "#             'cost': 1000\n",
    "#         },\n",
    "#         {\n",
    "#             'team_type': 'B',\n",
    "#             'start_day': 2,\n",
    "#             'end_day': 15,\n",
    "#             'cost': 1500\n",
    "#         }\n",
    "#     ],\n",
    "#     'Machine2': [\n",
    "#         {\n",
    "#             'team_type': 'Team C',\n",
    "#             'start_date': '2024-01-15',\n",
    "#             'end_date': '2024-01-20',\n",
    "#             'penalty_costs': 1200\n",
    "#         }\n",
    "#     ],\n",
    "#     # Add more machines as needed\n",
    "# }\n",
    "\n",
    "# New structure\n",
    "# schedule = [[1, 4, 5, 10], [7] [2, 8, 9], [3, 6]]\n",
    "# each array corresponds to the engines each team needs to maintain\n",
    "# the first two arrays are the two A teams, the last two arrays are the two B teams\n"
   ]
  }
 ],
 "metadata": {
  "kernelspec": {
   "display_name": "Python 3",
   "language": "python",
   "name": "python3"
  },
  "language_info": {
   "codemirror_mode": {
    "name": "ipython",
    "version": 3
   },
   "file_extension": ".py",
   "mimetype": "text/x-python",
   "name": "python",
   "nbconvert_exporter": "python",
   "pygments_lexer": "ipython3",
   "version": "3.11.5"
  }
 },
 "nbformat": 4,
 "nbformat_minor": 2
}
