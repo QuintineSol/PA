{
 "cells": [
  {
   "cell_type": "markdown",
   "metadata": {},
   "source": [
    "# Optimization Task"
   ]
  },
  {
   "cell_type": "code",
   "execution_count": 21,
   "metadata": {},
   "outputs": [],
   "source": [
    "# Questions:\n",
    "# - Is the penalty cost incurred every day or only when the maintenance is being done?"
   ]
  },
  {
   "cell_type": "code",
   "execution_count": 22,
   "metadata": {},
   "outputs": [],
   "source": [
    "# TODO:\n",
    "# - set seed?"
   ]
  },
  {
   "cell_type": "code",
   "execution_count": 23,
   "metadata": {},
   "outputs": [],
   "source": [
    "# Imports\n",
    "import pandas as pd\n",
    "import math\n",
    "import random"
   ]
  },
  {
   "cell_type": "markdown",
   "metadata": {},
   "source": [
    "## Global Variables"
   ]
  },
  {
   "cell_type": "code",
   "execution_count": 24,
   "metadata": {},
   "outputs": [],
   "source": [
    "total_no_engines = 100\n",
    "team_types = [\"A\", \"A\", \"B\", \"B\"] # List indicating which type each team has (i.e. \"A\" or \"B\")\n",
    "# no_teams = 4\n",
    "# a_teams = 2\n",
    "# b_teams = 2\n",
    "\n",
    "engines = list(range(1, total_no_engines + 1))"
   ]
  },
  {
   "cell_type": "markdown",
   "metadata": {},
   "source": [
    "## Loading Data"
   ]
  },
  {
   "cell_type": "code",
   "execution_count": 25,
   "metadata": {},
   "outputs": [
    {
     "name": "stdout",
     "output_type": "stream",
     "text": [
      "  RUL;id\n",
      "0  135;1\n",
      "1  125;2\n",
      "2   63;3\n",
      "3  100;4\n",
      "4  103;5\n"
     ]
    }
   ],
   "source": [
    "file_path = \"./data/RUL_consultancy_predictions_A3-2.csv\"\n",
    "\n",
    "# Load the CSV file into a pandas DataFrame\n",
    "df = pd.read_csv(file_path)\n",
    "\n",
    "# Display the first few rows of the DataFrame to verify that the data was loaded correctly\n",
    "print(df.head())\n",
    "\n",
    "# Split the \"RUL;id\" column into two separate columns\n",
    "df[['RUL', 'id']] = df['RUL;id'].str.split(';', expand=True)\n",
    "\n",
    "# Convert the 'RUL' column to a dictionary with 'id' column as keys\n",
    "RUL = dict(zip(df['id'].astype(int), df['RUL'].astype(int)))\n",
    "\n",
    "# print(RUL)\n"
   ]
  },
  {
   "cell_type": "markdown",
   "metadata": {},
   "source": [
    "## Maintenance Teams"
   ]
  },
  {
   "cell_type": "code",
   "execution_count": 26,
   "metadata": {},
   "outputs": [],
   "source": [
    "\n",
    "maintenance_duration = {}\n",
    "\n",
    "# Define the values for μAj\n",
    "for engine in engines:\n",
    "    if 1 <= engine <= 20:\n",
    "        maintenance_duration[engine] = {'A': 4, 'B': 5}  # since μBj = μAj + 1\n",
    "    elif 21 <= engine <= 55:\n",
    "        maintenance_duration[engine] = {'A': 3, 'B': 4}  # since μBj = μAj + 1\n",
    "    elif 56 <= engine <= 80:\n",
    "        maintenance_duration[engine] = {'A': 2, 'B': 3}  # since μBj = μAj + 1\n",
    "    else:\n",
    "        maintenance_duration[engine] = {'A': 8, 'B': 9}  # since μBj = μAj + 1\n",
    "\n",
    "# Update the values for μBj based on conditions\n",
    "for engine in engines:\n",
    "    if 1 <= engine <= 25:\n",
    "        maintenance_duration[engine]['B'] = maintenance_duration[engine]['A'] + 1\n",
    "    elif 26 <= engine <= 70:\n",
    "        maintenance_duration[engine]['B'] = maintenance_duration[engine]['A'] + 2\n",
    "    else:\n",
    "        maintenance_duration[engine]['B'] = maintenance_duration[engine]['A'] + 1\n",
    "\n",
    "# Print the dictionary to see the values\n",
    "# for engine in engines:\n",
    "#     print(f\"Index engine={engine}: A={maintenance_duration[engine]['A']}, B={maintenance_duration[engine]['B']}\")\n",
    "\n"
   ]
  },
  {
   "cell_type": "markdown",
   "metadata": {},
   "source": [
    "## Safety due date"
   ]
  },
  {
   "cell_type": "code",
   "execution_count": 27,
   "metadata": {},
   "outputs": [],
   "source": [
    "t_1 = 1\n",
    "safety_due_date = {id_val: t_1 + rul - 1 for id_val, rul in RUL.items()}\n",
    "# print(safety_due_date)"
   ]
  },
  {
   "cell_type": "markdown",
   "metadata": {},
   "source": [
    "## Penalty costs"
   ]
  },
  {
   "cell_type": "code",
   "execution_count": 28,
   "metadata": {},
   "outputs": [],
   "source": [
    "penalty_costs = {}\n",
    "\n",
    "# Define the values for cj\n",
    "for engine in range(1, 21):\n",
    "    penalty_costs[engine] = 4\n",
    "\n",
    "for engine in range(21, 31):\n",
    "    penalty_costs[engine] = 3\n",
    "\n",
    "for engine in range(31, 46):\n",
    "    penalty_costs[engine] = 2\n",
    "\n",
    "for engine in range(46, 81):\n",
    "    penalty_costs[engine] = 5\n",
    "\n",
    "for engine in range(81, 101):\n",
    "    penalty_costs[engine] = 6\n",
    "\n",
    "# Print the dictionary to see the values\n",
    "# for engine, cost in penalty_costs.items():\n",
    "#     print(f\"Index engine={engine}: cost={cost}\")\n"
   ]
  },
  {
   "cell_type": "markdown",
   "metadata": {},
   "source": [
    "## Help functions"
   ]
  },
  {
   "cell_type": "code",
   "execution_count": 29,
   "metadata": {},
   "outputs": [],
   "source": [
    "def cost(engine, day):\n",
    "    \"\"\"\n",
    "    Calculates the incurred cost when an engine is not maintained by its safety due date.\n",
    "\n",
    "    Parameters:\n",
    "    - engine: number of the engine\n",
    "    - day: current day\n",
    "\n",
    "    Returns:\n",
    "    - integer: incurred cost for the engine on the day\n",
    "    \"\"\"\n",
    "    calculated_cost = penalty_costs[engine] * ((day - safety_due_date[engine]) ** 2)\n",
    "    return min(calculated_cost, 250)"
   ]
  },
  {
   "cell_type": "code",
   "execution_count": 30,
   "metadata": {},
   "outputs": [],
   "source": [
    "def update_safety_due_date(planning_horizon, engine):\n",
    "    \"\"\"\n",
    "    Update safety due date after maintenance has been performed on the engine.\n",
    "    An engine can only \"fail\" once during the planning period. Hence, \n",
    "    we make sure it exceeds the planning horizon.\n",
    "\n",
    "    Parameters:\n",
    "    - planning_horizon: number of days for which a maintenance schedule needs to be created\n",
    "    - engine: number of the engine\n",
    "    \"\"\"\n",
    "    safety_due_date[engine] = planning_horizon + 1"
   ]
  },
  {
   "cell_type": "code",
   "execution_count": 31,
   "metadata": {},
   "outputs": [],
   "source": [
    "def complete_on_time(team, engine, start_day, planning_horizon):\n",
    "    \"\"\"\n",
    "    Checks if the maintenance can be performed by the team on the engine within the planning period.\n",
    "\n",
    "    Parameters:\n",
    "    - team: \"A\" or \"B\" indicating the type of team\n",
    "    - engine: number of the engine\n",
    "    - start_day: day when the maintenance is started\n",
    "    - planning_horizon: number of days for which a maintenance schedule needs to be created\n",
    "\n",
    "    Returns:\n",
    "    - boolean: whether the maintenance can be performed within the planning horizon by the team on the engine\n",
    "    \"\"\"\n",
    "    return start_day + maintenance_duration[engine][team] - 1 <= planning_horizon    "
   ]
  },
  {
   "cell_type": "code",
   "execution_count": 32,
   "metadata": {},
   "outputs": [],
   "source": [
    "def engines_requiring_maintenance(planning_horizon):\n",
    "    \"\"\"\n",
    "    Return the engines that require maintenance within the planning period.\n",
    "\n",
    "    Parameters:\n",
    "    - planning_horizon: number of days for which a maintenance schedule needs to be created\n",
    "\n",
    "    Returns:\n",
    "    - list: engines requiring maintenance\n",
    "    \"\"\"\n",
    "    engines_to_maintain = []\n",
    "    for engine_id, due_date in safety_due_date.items():\n",
    "        if due_date <= planning_horizon:\n",
    "            engines_to_maintain.append(engine_id)\n",
    "    return engines_to_maintain"
   ]
  },
  {
   "cell_type": "code",
   "execution_count": 33,
   "metadata": {},
   "outputs": [],
   "source": [
    "def leftover_days(planning_horizon, schedule):\n",
    "    \"\"\"\n",
    "    Calculates how many days each team still has to perform maintenance given the current schedule.\n",
    "\n",
    "    Parameters:\n",
    "    - planning_horizon: number of days for which a maintenance schedule needs to be created\n",
    "    - schedule: nested list of engines maintained by each team\n",
    "\n",
    "    Returns:\n",
    "    - nested list: number of days left for each team\n",
    "    \"\"\"\n",
    "    # Initialize a list to store the leftover time for each team\n",
    "    days_left = [planning_horizon] * len(schedule)\n",
    "    \n",
    "    # Iterate through each team in the schedule\n",
    "    for team in range(len(schedule)):\n",
    "        team_type = team_types[team]\n",
    "        # Iterate through each engine in the team's schedule\n",
    "        for engine in schedule[team]:\n",
    "            # Subtract the maintenance duration of the engine from the team's number of days left\n",
    "            days_left[team] -= maintenance_duration[engine][team_type]\n",
    "    \n",
    "    return days_left"
   ]
  },
  {
   "cell_type": "code",
   "execution_count": 34,
   "metadata": {},
   "outputs": [],
   "source": [
    "def available_teams(days_left, engine):\n",
    "    \"\"\"\n",
    "    Returns a list of team indices that still have enough days left to perform\n",
    "    maintenance on the engine.\n",
    "\n",
    "    Parameters:\n",
    "    - days_left: list containing the number of days each team has left\n",
    "    - engine: number of the engine that needs to be maintained\n",
    "\n",
    "    Returns:\n",
    "    - list: numbers of the teams that are able to perform the maintenance\n",
    "    \"\"\"\n",
    "    # Initialize a list to store indices of teams in which the maintenance still fits\n",
    "    team_indices = []\n",
    "\n",
    "    # Iterate through each team\n",
    "    for team in range(len(days_left)):\n",
    "        # Get the team type (i.e. \"A\" or \"B\")\n",
    "        team_type = team_types[team]\n",
    "        \n",
    "        # Check if the team has enough time left to perform maintenance on the engine\n",
    "        if days_left[team] >= maintenance_duration[engine][team_type]:\n",
    "            # Add the team index to the list of fitting teams\n",
    "            team_indices.append(team)\n",
    "    \n",
    "    return team_indices"
   ]
  },
  {
   "cell_type": "code",
   "execution_count": 37,
   "metadata": {},
   "outputs": [],
   "source": [
    "def fitness(schedule):\n",
    "    \"\"\"\n",
    "    Calculates the total incurred costs based on the maintenance schedule.\n",
    "\n",
    "    Parameters:\n",
    "    - schedule: nested list of engines maintained by each team\n",
    "    \n",
    "    Returns:\n",
    "    - int: the total incurred costs\n",
    "    \"\"\"\n",
    "    total_costs = 0  # Initialize total costs counter\n",
    "    day = 1  # Initialize day counter\n",
    "\n",
    "    # Iterate through each team in the schedule\n",
    "    for team in range(0, len(schedule)):\n",
    "        team_type = team_types[team]  # Get the type of the current team\n",
    "        # Iterate through each engine maintained by the current team\n",
    "        for engine in schedule[team]:\n",
    "            # Add the cost of maintaining the current engine on the current day to the total costs\n",
    "            total_costs += cost(engine, day)\n",
    "            # Update the day counter by adding the maintenance duration of the current engine for the current team\n",
    "            day += maintenance_duration[engine][team_type]\n",
    "\n",
    "    return total_costs"
   ]
  },
  {
   "cell_type": "code",
   "execution_count": 39,
   "metadata": {},
   "outputs": [],
   "source": [
    "def best_fitness_value(fitness_values):\n",
    "    \"\"\"\n",
    "    Returns the best-found fitness value in the list of fitness values.\n",
    "\n",
    "    Parameters:\n",
    "    - fitness_values: fitness value of each individual in the population\n",
    "\n",
    "    Returns:\n",
    "    - int: index of the best-found fitness value\n",
    "    - int: best-found fitness value\n",
    "    \"\"\"\n",
    "    # Find the index of the maximum fitness value in the list\n",
    "    best_index = fitness_values.index(max(fitness_values))\n",
    "    \n",
    "    # Return the index and value of the best-found fitness value\n",
    "    return best_index, fitness_values[best_index]"
   ]
  },
  {
   "cell_type": "code",
   "execution_count": 35,
   "metadata": {},
   "outputs": [],
   "source": [
    "def feasible(planning_horizon, schedule):\n",
    "    \"\"\"\n",
    "    Determines if the schedule is feasible.\n",
    "    \n",
    "    Parameters:\n",
    "    - planning_horizon: number of days for which a maintenance schedule needs to be created\n",
    "    - schedule: nested list of engines maintained by each team\n",
    "\n",
    "    Returns:\n",
    "    - bool: whether each team can maintain their assigned engines within the planning horizon\n",
    "    \"\"\"\n",
    "    return all(team_days_left >= 0 for team_days_left in leftover_days(planning_horizon, schedule))\n"
   ]
  },
  {
   "cell_type": "markdown",
   "metadata": {},
   "source": [
    "## Genetic Algorithm"
   ]
  },
  {
   "cell_type": "code",
   "execution_count": 47,
   "metadata": {},
   "outputs": [],
   "source": [
    "def create_random_individuals(no_individuals, planning_horizon, engines_to_maintain):\n",
    "    \"\"\"\n",
    "    Creates a certain number of random individuals (i.e., maintenance schedules).\n",
    "    Parameters:\n",
    "    - no_individuals: number of random individuals that are created\n",
    "    - planning_horizon: number of days for which a maintenance schedule needs to be created\n",
    "    - engines_to_maintain: list of engines that require maintenance within the planning horizon\n",
    "\n",
    "    Returns:\n",
    "    - list: population containing the random individuals (i.e., maintenance schedules)\n",
    "    \"\"\"\n",
    "    population = []\n",
    "\n",
    "    # Iterate to create a certain number of individuals in the population\n",
    "    for i in range(no_individuals):\n",
    "        # Initialize an empty schedule for each team\n",
    "        schedule = [[] for _ in range(len(team_types))]\n",
    "\n",
    "        # Continue until all engines requiring maintenance have been assigned (as far as possible)\n",
    "        while len(engines_to_maintain) > 0:\n",
    "            # Randomly select an engine\n",
    "            engine = random.choice(engines_to_maintain)\n",
    "            \n",
    "            # Determine how many days each team has left to perform maintenance\n",
    "            days_left = leftover_days(planning_horizon, schedule)\n",
    "\n",
    "            # Find teams that still have enough number of days left to maintain this engine\n",
    "            fitting_teams = available_teams(days_left, engine)\n",
    "\n",
    "            # If there are fitting teams, randomly select one of them and assign the engine\n",
    "            if len(fitting_teams) > 0:\n",
    "                team = random.choice(fitting_teams)\n",
    "                schedule[team].append(engine)\n",
    "                engines_to_maintain.remove(engine)\n",
    "        \n",
    "        # Add the generated schedule to the population\n",
    "        population.append(schedule)\n",
    "\n",
    "    return population"
   ]
  },
  {
   "cell_type": "code",
   "execution_count": 38,
   "metadata": {},
   "outputs": [],
   "source": [
    "def fitness_evaluation(population):\n",
    "    \"\"\"\n",
    "    Calculates the fitness value of each individual in the population.\n",
    "\n",
    "    Parameters:\n",
    "    - population: list of individuals (i.e., maintenance schedules)\n",
    "\n",
    "    Returns:\n",
    "    - list: fitness value of each individual in the population\n",
    "    \"\"\"\n",
    "    return [fitness(individual) for individual in population]"
   ]
  },
  {
   "cell_type": "code",
   "execution_count": 40,
   "metadata": {},
   "outputs": [],
   "source": [
    "def check_termination_criterion(runs_since_best_fitness, patience):\n",
    "    \"\"\"\n",
    "    Checks if the termination criterion has been met (i.e. ).\n",
    "\n",
    "    Parameters:\n",
    "    - runs_since_best_fitness: \n",
    "    - patience: \n",
    "    \n",
    "    Returns:\n",
    "    - bool: whether the termination criteria has been met\n",
    "    \"\"\"\n",
    "    return runs_since_best_fitness > patience"
   ]
  },
  {
   "cell_type": "code",
   "execution_count": 51,
   "metadata": {},
   "outputs": [],
   "source": [
    "def select_parents(population, no_parents, fitness_values):\n",
    "    \"\"\"\n",
    "    Selects parents using the ranking selection method.\n",
    "\n",
    "    Parameters:\n",
    "    - population: list of individuals (i.e., maintenance schedules)\n",
    "    - no_parents: number of parents that are selected\n",
    "\n",
    "    Returns:\n",
    "    - list: selected parents\n",
    "    \"\"\"\n",
    "    # Combine population and fitness values into tuples\n",
    "    combined = list(zip(population, fitness_values))\n",
    "\n",
    "    # Sort the combined list based on fitness values in ascending order (low fitness value is best)\n",
    "    ranked_combined = sorted(combined, key=lambda x: x[1])\n",
    "\n",
    "    # Extract ranked schedules from ranked tuples and assign ranks to each item in the ranked list\n",
    "    ranked_schedules = [(i+1, individual) for i, (individual, _) in enumerate(ranked_combined)]\n",
    "\n",
    "    # Calculate the total sum of ranks, used to normalize the probabilities for each maintenance schedule\n",
    "    total_rank_sum = sum(1 / (rank + 1) for (rank, _) in range(len(ranked_schedules)))\n",
    "\n",
    "    # Divide the rank of each schedule by the total_rank_sum\n",
    "    normalized_ranks = [(rank / total_rank_sum, individual) for (rank, individual) in ranked_schedules]\n",
    "\n",
    "    # Select a random number between 0 and 1\n",
    "    random_number = random.random()\n",
    "\n",
    "    # TODO: This last part still needs to be changed & part above still contains errors\n",
    "    # Iterate through schedules and select one based on probabilities\n",
    "    cumulative_probability = 0\n",
    "    # In the ranking selection method, the probability of selecting a particular maintenance schedule is not directly used for comparison with the random number. \n",
    "    # Instead, we use the cumulative probabilities to create ranges that the random number falls into.\n",
    "    for s in range(ranked_schedules):\n",
    "        cumulative_probability += normalized_ranks[s]\n",
    "        if random_number <= cumulative_probability:\n",
    "            return ranked_schedules[s]"
   ]
  },
  {
   "cell_type": "code",
   "execution_count": 42,
   "metadata": {},
   "outputs": [],
   "source": [
    "def crossover(parents):\n",
    "    \n",
    "    return"
   ]
  },
  {
   "cell_type": "code",
   "execution_count": 43,
   "metadata": {},
   "outputs": [],
   "source": [
    "def mutation(population):\n",
    "    return"
   ]
  },
  {
   "cell_type": "code",
   "execution_count": 44,
   "metadata": {},
   "outputs": [],
   "source": [
    "def new_offspring():\n",
    "    return"
   ]
  },
  {
   "cell_type": "code",
   "execution_count": 52,
   "metadata": {},
   "outputs": [],
   "source": [
    "def genetic_algorithm(planning_horizon, population_size, no_parents):\n",
    "    \"\"\"\n",
    "    Run the genetic algorithm.\n",
    "\n",
    "    Parameters:\n",
    "    - planning_horizon: number of days for which a maintenance schedule needs to be created\n",
    "    - population_size: number of individuals in the population\n",
    "    - no_parents: number of parents that are selected each iteration\n",
    "\n",
    "    Returns:\n",
    "    - list: best-found schedule\n",
    "    \"\"\"\n",
    "    minimum_cost = math.inf\n",
    "    best_schedule = None\n",
    "    patience = 5\n",
    "    runs_since_best_fitness = 0\n",
    "\n",
    "    # Find engines that require maintenance within the planning horizon\n",
    "    engines_to_maintain = engines_requiring_maintenance(planning_horizon)\n",
    "\n",
    "    # Create random individuals\n",
    "    population = create_random_individuals(population_size, planning_horizon, engines_to_maintain)\n",
    "\n",
    "    # TODO: define some loop-condition (e.g. maybe the termination_criterion?)\n",
    "    # Evaluate fitness of the individuals\n",
    "    fitness_values = fitness_evaluation(population) \n",
    "\n",
    "    # Get the index and value of the best-found fitness value in the current population\n",
    "    current_best_index, current_min_cost = best_fitness_value(fitness_values)\n",
    "\n",
    "    # Check if the current minimum cost is lower than the overall minimum cost\n",
    "    if current_min_cost < minimum_cost:\n",
    "        # Update the minimum cost and best schedule\n",
    "        minimum_cost = current_min_cost\n",
    "        best_schedule = population[current_best_index]\n",
    "        runs_since_best_fitness = 0  # Reset the counter for runs since the a new best fitness value was found\n",
    "    else:\n",
    "        # Increment the counter for runs since a new best fitness value was not found\n",
    "        runs_since_best_fitness += 1\n",
    "\n",
    "    # Check if the termination criterion is met\n",
    "    if check_termination_criterion(runs_since_best_fitness, patience):\n",
    "        # If the termination criterion is met, return the best schedule\n",
    "        return best_schedule\n",
    "\n",
    "    # Select parents\n",
    "    parents = select_parents(population, no_parents, fitness_values)\n",
    "\n",
    "    # Perform crossover operation to generate offspring\n",
    "    population = crossover(parents)\n",
    "\n",
    "    # Perform mutation operation on the offspring\n",
    "    population = mutation(population)\n",
    "\n",
    "    # Copy the best-found schedule to the new population\n",
    "    population.append(best_schedule)"
   ]
  },
  {
   "cell_type": "code",
   "execution_count": 53,
   "metadata": {},
   "outputs": [
    {
     "ename": "TypeError",
     "evalue": "cannot unpack non-iterable int object",
     "output_type": "error",
     "traceback": [
      "\u001b[0;31m---------------------------------------------------------------------------\u001b[0m",
      "\u001b[0;31mTypeError\u001b[0m                                 Traceback (most recent call last)",
      "Cell \u001b[0;32mIn[53], line 5\u001b[0m\n\u001b[1;32m      2\u001b[0m population_size \u001b[38;5;241m=\u001b[39m \u001b[38;5;241m49\u001b[39m \u001b[38;5;66;03m# Should be odd so we can easily copy the best individual to the new population\u001b[39;00m\n\u001b[1;32m      3\u001b[0m no_parents \u001b[38;5;241m=\u001b[39m population_size \u001b[38;5;241m/\u001b[39m\u001b[38;5;241m/\u001b[39m \u001b[38;5;241m2\u001b[39m \u001b[38;5;66;03m# We should be able to easily copy the best individual to the new population\u001b[39;00m\n\u001b[0;32m----> 5\u001b[0m solution \u001b[38;5;241m=\u001b[39m \u001b[43mgenetic_algorithm\u001b[49m\u001b[43m(\u001b[49m\u001b[43mplanning_horizon\u001b[49m\u001b[43m,\u001b[49m\u001b[43m \u001b[49m\u001b[43mpopulation_size\u001b[49m\u001b[43m,\u001b[49m\u001b[43m \u001b[49m\u001b[43mno_parents\u001b[49m\u001b[43m)\u001b[49m\n\u001b[1;32m      6\u001b[0m \u001b[38;5;28mprint\u001b[39m(solution)\n\u001b[1;32m      7\u001b[0m \u001b[38;5;66;03m# Structure\u001b[39;00m\n\u001b[1;32m      8\u001b[0m \u001b[38;5;66;03m# maintenance_data = {\u001b[39;00m\n\u001b[1;32m      9\u001b[0m \u001b[38;5;66;03m#     'Machine1': [\u001b[39;00m\n\u001b[0;32m   (...)\u001b[0m\n\u001b[1;32m     36\u001b[0m \u001b[38;5;66;03m# each array corresponds to the engines each team needs to maintain\u001b[39;00m\n\u001b[1;32m     37\u001b[0m \u001b[38;5;66;03m# the first two arrays are the two A teams, the last two arrays are the two B teams\u001b[39;00m\n",
      "Cell \u001b[0;32mIn[52], line 47\u001b[0m, in \u001b[0;36mgenetic_algorithm\u001b[0;34m(planning_horizon, population_size, no_parents)\u001b[0m\n\u001b[1;32m     44\u001b[0m     \u001b[38;5;28;01mreturn\u001b[39;00m best_schedule\n\u001b[1;32m     46\u001b[0m \u001b[38;5;66;03m# Select parents\u001b[39;00m\n\u001b[0;32m---> 47\u001b[0m parents \u001b[38;5;241m=\u001b[39m \u001b[43mselect_parents\u001b[49m\u001b[43m(\u001b[49m\u001b[43mpopulation\u001b[49m\u001b[43m,\u001b[49m\u001b[43m \u001b[49m\u001b[43mno_parents\u001b[49m\u001b[43m,\u001b[49m\u001b[43m \u001b[49m\u001b[43mfitness_values\u001b[49m\u001b[43m)\u001b[49m\n\u001b[1;32m     49\u001b[0m \u001b[38;5;66;03m# Perform crossover operation to generate offspring\u001b[39;00m\n\u001b[1;32m     50\u001b[0m population \u001b[38;5;241m=\u001b[39m crossover(parents)\n",
      "Cell \u001b[0;32mIn[51], line 22\u001b[0m, in \u001b[0;36mselect_parents\u001b[0;34m(population, no_parents, fitness_values)\u001b[0m\n\u001b[1;32m     19\u001b[0m ranked_schedules \u001b[38;5;241m=\u001b[39m [(i\u001b[38;5;241m+\u001b[39m\u001b[38;5;241m1\u001b[39m, individual) \u001b[38;5;28;01mfor\u001b[39;00m i, (individual, _) \u001b[38;5;129;01min\u001b[39;00m \u001b[38;5;28menumerate\u001b[39m(ranked_combined)]\n\u001b[1;32m     21\u001b[0m \u001b[38;5;66;03m# Calculate the total sum of ranks, used to normalize the probabilities for each maintenance schedule\u001b[39;00m\n\u001b[0;32m---> 22\u001b[0m total_rank_sum \u001b[38;5;241m=\u001b[39m \u001b[38;5;28;43msum\u001b[39;49m\u001b[43m(\u001b[49m\u001b[38;5;241;43m1\u001b[39;49m\u001b[43m \u001b[49m\u001b[38;5;241;43m/\u001b[39;49m\u001b[43m \u001b[49m\u001b[43m(\u001b[49m\u001b[43mrank\u001b[49m\u001b[43m \u001b[49m\u001b[38;5;241;43m+\u001b[39;49m\u001b[43m \u001b[49m\u001b[38;5;241;43m1\u001b[39;49m\u001b[43m)\u001b[49m\u001b[43m \u001b[49m\u001b[38;5;28;43;01mfor\u001b[39;49;00m\u001b[43m \u001b[49m\u001b[43m(\u001b[49m\u001b[43mrank\u001b[49m\u001b[43m,\u001b[49m\u001b[43m \u001b[49m\u001b[43m_\u001b[49m\u001b[43m)\u001b[49m\u001b[43m \u001b[49m\u001b[38;5;129;43;01min\u001b[39;49;00m\u001b[43m \u001b[49m\u001b[38;5;28;43mrange\u001b[39;49m\u001b[43m(\u001b[49m\u001b[38;5;28;43mlen\u001b[39;49m\u001b[43m(\u001b[49m\u001b[43mranked_schedules\u001b[49m\u001b[43m)\u001b[49m\u001b[43m)\u001b[49m\u001b[43m)\u001b[49m\n\u001b[1;32m     24\u001b[0m \u001b[38;5;66;03m# Divide the rank of each schedule by the total_rank_sum\u001b[39;00m\n\u001b[1;32m     25\u001b[0m normalized_ranks \u001b[38;5;241m=\u001b[39m [(rank \u001b[38;5;241m/\u001b[39m total_rank_sum, individual) \u001b[38;5;28;01mfor\u001b[39;00m (rank, individual) \u001b[38;5;129;01min\u001b[39;00m ranked_schedules]\n",
      "Cell \u001b[0;32mIn[51], line 22\u001b[0m, in \u001b[0;36m<genexpr>\u001b[0;34m(.0)\u001b[0m\n\u001b[1;32m     19\u001b[0m ranked_schedules \u001b[38;5;241m=\u001b[39m [(i\u001b[38;5;241m+\u001b[39m\u001b[38;5;241m1\u001b[39m, individual) \u001b[38;5;28;01mfor\u001b[39;00m i, (individual, _) \u001b[38;5;129;01min\u001b[39;00m \u001b[38;5;28menumerate\u001b[39m(ranked_combined)]\n\u001b[1;32m     21\u001b[0m \u001b[38;5;66;03m# Calculate the total sum of ranks, used to normalize the probabilities for each maintenance schedule\u001b[39;00m\n\u001b[0;32m---> 22\u001b[0m total_rank_sum \u001b[38;5;241m=\u001b[39m \u001b[38;5;28msum\u001b[39m(\u001b[38;5;241m1\u001b[39m \u001b[38;5;241m/\u001b[39m (rank \u001b[38;5;241m+\u001b[39m \u001b[38;5;241m1\u001b[39m) \u001b[38;5;28;01mfor\u001b[39;00m (rank, _) \u001b[38;5;129;01min\u001b[39;00m \u001b[38;5;28mrange\u001b[39m(\u001b[38;5;28mlen\u001b[39m(ranked_schedules)))\n\u001b[1;32m     24\u001b[0m \u001b[38;5;66;03m# Divide the rank of each schedule by the total_rank_sum\u001b[39;00m\n\u001b[1;32m     25\u001b[0m normalized_ranks \u001b[38;5;241m=\u001b[39m [(rank \u001b[38;5;241m/\u001b[39m total_rank_sum, individual) \u001b[38;5;28;01mfor\u001b[39;00m (rank, individual) \u001b[38;5;129;01min\u001b[39;00m ranked_schedules]\n",
      "\u001b[0;31mTypeError\u001b[0m: cannot unpack non-iterable int object"
     ]
    }
   ],
   "source": [
    "planning_horizon = 30\n",
    "population_size = 49 # Should be odd so we can easily copy the best individual to the new population\n",
    "no_parents = population_size // 2 # We should be able to easily copy the best individual to the new population\n",
    "\n",
    "solution = genetic_algorithm(planning_horizon, population_size, no_parents)\n",
    "print(solution)\n",
    "# Structure\n",
    "# maintenance_data = {\n",
    "#     'Machine1': [\n",
    "#         {\n",
    "#             'team_type': 'A',\n",
    "#             'start_day': 1,\n",
    "#             'end_day': 10,\n",
    "#             'cost': 1000\n",
    "#         },\n",
    "#         {\n",
    "#             'team_type': 'B',\n",
    "#             'start_day': 2,\n",
    "#             'end_day': 15,\n",
    "#             'cost': 1500\n",
    "#         }\n",
    "#     ],\n",
    "#     'Machine2': [\n",
    "#         {\n",
    "#             'team_type': 'Team C',\n",
    "#             'start_date': '2024-01-15',\n",
    "#             'end_date': '2024-01-20',\n",
    "#             'penalty_costs': 1200\n",
    "#         }\n",
    "#     ],\n",
    "#     # Add more machines as needed\n",
    "# }\n",
    "\n",
    "# New structure\n",
    "# schedule = [[1, 4, 5, 10], [7] [2, 8, 9], [3, 6]]\n",
    "# each array corresponds to the engines each team needs to maintain\n",
    "# the first two arrays are the two A teams, the last two arrays are the two B teams\n"
   ]
  }
 ],
 "metadata": {
  "kernelspec": {
   "display_name": "Python 3",
   "language": "python",
   "name": "python3"
  },
  "language_info": {
   "codemirror_mode": {
    "name": "ipython",
    "version": 3
   },
   "file_extension": ".py",
   "mimetype": "text/x-python",
   "name": "python",
   "nbconvert_exporter": "python",
   "pygments_lexer": "ipython3",
   "version": "3.11.5"
  }
 },
 "nbformat": 4,
 "nbformat_minor": 2
}
