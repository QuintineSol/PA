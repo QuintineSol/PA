{
 "cells": [
  {
   "cell_type": "markdown",
   "metadata": {},
   "source": [
    "# Optimization Task"
   ]
  },
  {
   "cell_type": "code",
   "execution_count": null,
   "metadata": {},
   "outputs": [],
   "source": [
    "# Questions:\n",
    "# - Is the penalty cost incurred every day or only when the maintenance is being done?"
   ]
  },
  {
   "cell_type": "code",
   "execution_count": 6,
   "metadata": {},
   "outputs": [],
   "source": [
    "# Imports\n",
    "import pandas as pd"
   ]
  },
  {
   "cell_type": "markdown",
   "metadata": {},
   "source": [
    "## Loading Data"
   ]
  },
  {
   "cell_type": "code",
   "execution_count": 38,
   "metadata": {},
   "outputs": [
    {
     "name": "stdout",
     "output_type": "stream",
     "text": [
      "  RUL;id\n",
      "0  135;1\n",
      "1  125;2\n",
      "2   63;3\n",
      "3  100;4\n",
      "4  103;5\n",
      "{1: 135, 2: 125, 3: 63, 4: 100, 5: 103, 6: 122, 7: 106, 8: 90, 9: 121, 10: 67, 11: 101, 12: 89, 13: 87, 14: 122, 15: 114, 16: 101, 17: 52, 18: 33, 19: 84, 20: 10, 21: 63, 22: 141, 23: 119, 24: 26, 25: 173, 26: 128, 27: 70, 28: 96, 29: 96, 30: 87, 31: 14, 32: 54, 33: 128, 34: 8, 35: 8, 36: 24, 37: 21, 38: 58, 39: 144, 40: 29, 41: 23, 42: 13, 43: 67, 44: 146, 45: 100, 46: 53, 47: 130, 48: 151, 49: 14, 50: 100, 51: 106, 52: 34, 53: 34, 54: 126, 55: 174, 56: 18, 57: 102, 58: 38, 59: 113, 60: 112, 61: 23, 62: 54, 63: 75, 64: 24, 65: 152, 66: 18, 67: 174, 68: 13, 69: 130, 70: 90, 71: 130, 72: 59, 73: 113, 74: 115, 75: 115, 76: 3, 77: 27, 78: 165, 79: 82, 80: 84, 81: 6, 82: 11, 83: 182, 84: 53, 85: 142, 86: 113, 87: 126, 88: 117, 89: 111, 90: 28, 91: 29, 92: 24, 93: 51, 94: 55, 95: 143, 96: 140, 97: 109, 98: 87, 99: 127, 100: 24}\n"
     ]
    }
   ],
   "source": [
    "file_path = \"./data/RUL_consultancy_predictions_A3-2.csv\"\n",
    "\n",
    "# Load the CSV file into a pandas DataFrame\n",
    "df = pd.read_csv(file_path)\n",
    "\n",
    "# Display the first few rows of the DataFrame to verify that the data was loaded correctly\n",
    "print(df.head())\n",
    "\n",
    "# Split the \"RUL;id\" column into two separate columns\n",
    "df[['RUL', 'id']] = df['RUL;id'].str.split(';', expand=True)\n",
    "\n",
    "# Convert the 'RUL' column to a dictionary with 'id' column as keys\n",
    "RUL = dict(zip(df['id'].astype(int), df['RUL'].astype(int)))\n",
    "\n",
    "print(RUL)\n"
   ]
  },
  {
   "cell_type": "code",
   "execution_count": 12,
   "metadata": {},
   "outputs": [],
   "source": [
    "total_no_engines = 100\n",
    "no_teams = 4\n",
    "a_teams = 2\n",
    "b_teams = 2\n",
    "\n",
    "engines = list(range(1, total_no_engines + 1))"
   ]
  },
  {
   "cell_type": "markdown",
   "metadata": {},
   "source": [
    "## Maintenance Teams"
   ]
  },
  {
   "cell_type": "code",
   "execution_count": 49,
   "metadata": {},
   "outputs": [
    {
     "name": "stdout",
     "output_type": "stream",
     "text": [
      "Index engine=1: A=4, B=5\n",
      "Index engine=2: A=4, B=5\n",
      "Index engine=3: A=4, B=5\n",
      "Index engine=4: A=4, B=5\n",
      "Index engine=5: A=4, B=5\n",
      "Index engine=6: A=4, B=5\n",
      "Index engine=7: A=4, B=5\n",
      "Index engine=8: A=4, B=5\n",
      "Index engine=9: A=4, B=5\n",
      "Index engine=10: A=4, B=5\n",
      "Index engine=11: A=4, B=5\n",
      "Index engine=12: A=4, B=5\n",
      "Index engine=13: A=4, B=5\n",
      "Index engine=14: A=4, B=5\n",
      "Index engine=15: A=4, B=5\n",
      "Index engine=16: A=4, B=5\n",
      "Index engine=17: A=4, B=5\n",
      "Index engine=18: A=4, B=5\n",
      "Index engine=19: A=4, B=5\n",
      "Index engine=20: A=4, B=5\n",
      "Index engine=21: A=3, B=4\n",
      "Index engine=22: A=3, B=4\n",
      "Index engine=23: A=3, B=4\n",
      "Index engine=24: A=3, B=4\n",
      "Index engine=25: A=3, B=4\n",
      "Index engine=26: A=3, B=5\n",
      "Index engine=27: A=3, B=5\n",
      "Index engine=28: A=3, B=5\n",
      "Index engine=29: A=3, B=5\n",
      "Index engine=30: A=3, B=5\n",
      "Index engine=31: A=3, B=5\n",
      "Index engine=32: A=3, B=5\n",
      "Index engine=33: A=3, B=5\n",
      "Index engine=34: A=3, B=5\n",
      "Index engine=35: A=3, B=5\n",
      "Index engine=36: A=3, B=5\n",
      "Index engine=37: A=3, B=5\n",
      "Index engine=38: A=3, B=5\n",
      "Index engine=39: A=3, B=5\n",
      "Index engine=40: A=3, B=5\n",
      "Index engine=41: A=3, B=5\n",
      "Index engine=42: A=3, B=5\n",
      "Index engine=43: A=3, B=5\n",
      "Index engine=44: A=3, B=5\n",
      "Index engine=45: A=3, B=5\n",
      "Index engine=46: A=3, B=5\n",
      "Index engine=47: A=3, B=5\n",
      "Index engine=48: A=3, B=5\n",
      "Index engine=49: A=3, B=5\n",
      "Index engine=50: A=3, B=5\n",
      "Index engine=51: A=3, B=5\n",
      "Index engine=52: A=3, B=5\n",
      "Index engine=53: A=3, B=5\n",
      "Index engine=54: A=3, B=5\n",
      "Index engine=55: A=3, B=5\n",
      "Index engine=56: A=2, B=4\n",
      "Index engine=57: A=2, B=4\n",
      "Index engine=58: A=2, B=4\n",
      "Index engine=59: A=2, B=4\n",
      "Index engine=60: A=2, B=4\n",
      "Index engine=61: A=2, B=4\n",
      "Index engine=62: A=2, B=4\n",
      "Index engine=63: A=2, B=4\n",
      "Index engine=64: A=2, B=4\n",
      "Index engine=65: A=2, B=4\n",
      "Index engine=66: A=2, B=4\n",
      "Index engine=67: A=2, B=4\n",
      "Index engine=68: A=2, B=4\n",
      "Index engine=69: A=2, B=4\n",
      "Index engine=70: A=2, B=4\n",
      "Index engine=71: A=2, B=3\n",
      "Index engine=72: A=2, B=3\n",
      "Index engine=73: A=2, B=3\n",
      "Index engine=74: A=2, B=3\n",
      "Index engine=75: A=2, B=3\n",
      "Index engine=76: A=2, B=3\n",
      "Index engine=77: A=2, B=3\n",
      "Index engine=78: A=2, B=3\n",
      "Index engine=79: A=2, B=3\n",
      "Index engine=80: A=2, B=3\n",
      "Index engine=81: A=8, B=9\n",
      "Index engine=82: A=8, B=9\n",
      "Index engine=83: A=8, B=9\n",
      "Index engine=84: A=8, B=9\n",
      "Index engine=85: A=8, B=9\n",
      "Index engine=86: A=8, B=9\n",
      "Index engine=87: A=8, B=9\n",
      "Index engine=88: A=8, B=9\n",
      "Index engine=89: A=8, B=9\n",
      "Index engine=90: A=8, B=9\n",
      "Index engine=91: A=8, B=9\n",
      "Index engine=92: A=8, B=9\n",
      "Index engine=93: A=8, B=9\n",
      "Index engine=94: A=8, B=9\n",
      "Index engine=95: A=8, B=9\n",
      "Index engine=96: A=8, B=9\n",
      "Index engine=97: A=8, B=9\n",
      "Index engine=98: A=8, B=9\n",
      "Index engine=99: A=8, B=9\n",
      "Index engine=100: A=8, B=9\n"
     ]
    }
   ],
   "source": [
    "\n",
    "maintenance_duration = {}\n",
    "\n",
    "# Define the values for μAj\n",
    "for engine in engines:\n",
    "    if 1 <= engine <= 20:\n",
    "        maintenance_duration[engine] = {'A': 4, 'B': 5}  # since μBj = μAj + 1\n",
    "    elif 21 <= engine <= 55:\n",
    "        maintenance_duration[engine] = {'A': 3, 'B': 4}  # since μBj = μAj + 1\n",
    "    elif 56 <= engine <= 80:\n",
    "        maintenance_duration[engine] = {'A': 2, 'B': 3}  # since μBj = μAj + 1\n",
    "    else:\n",
    "        maintenance_duration[engine] = {'A': 8, 'B': 9}  # since μBj = μAj + 1\n",
    "\n",
    "# Update the values for μBj based on conditions\n",
    "for engine in engines:\n",
    "    if 1 <= engine <= 25:\n",
    "        maintenance_duration[engine]['B'] = maintenance_duration[engine]['A'] + 1\n",
    "    elif 26 <= engine <= 70:\n",
    "        maintenance_duration[engine]['B'] = maintenance_duration[engine]['A'] + 2\n",
    "    else:\n",
    "        maintenance_duration[engine]['B'] = maintenance_duration[engine]['A'] + 1\n",
    "\n",
    "# Print the dictionary to see the values\n",
    "for engine in engines:\n",
    "    print(f\"Index engine={engine}: A={maintenance_duration[engine]['A']}, B={maintenance_duration[engine]['B']}\")\n",
    "\n"
   ]
  },
  {
   "cell_type": "markdown",
   "metadata": {},
   "source": [
    "## Safety due date"
   ]
  },
  {
   "cell_type": "code",
   "execution_count": 39,
   "metadata": {},
   "outputs": [
    {
     "name": "stdout",
     "output_type": "stream",
     "text": [
      "{1: 135, 2: 125, 3: 63, 4: 100, 5: 103, 6: 122, 7: 106, 8: 90, 9: 121, 10: 67, 11: 101, 12: 89, 13: 87, 14: 122, 15: 114, 16: 101, 17: 52, 18: 33, 19: 84, 20: 10, 21: 63, 22: 141, 23: 119, 24: 26, 25: 173, 26: 128, 27: 70, 28: 96, 29: 96, 30: 87, 31: 14, 32: 54, 33: 128, 34: 8, 35: 8, 36: 24, 37: 21, 38: 58, 39: 144, 40: 29, 41: 23, 42: 13, 43: 67, 44: 146, 45: 100, 46: 53, 47: 130, 48: 151, 49: 14, 50: 100, 51: 106, 52: 34, 53: 34, 54: 126, 55: 174, 56: 18, 57: 102, 58: 38, 59: 113, 60: 112, 61: 23, 62: 54, 63: 75, 64: 24, 65: 152, 66: 18, 67: 174, 68: 13, 69: 130, 70: 90, 71: 130, 72: 59, 73: 113, 74: 115, 75: 115, 76: 3, 77: 27, 78: 165, 79: 82, 80: 84, 81: 6, 82: 11, 83: 182, 84: 53, 85: 142, 86: 113, 87: 126, 88: 117, 89: 111, 90: 28, 91: 29, 92: 24, 93: 51, 94: 55, 95: 143, 96: 140, 97: 109, 98: 87, 99: 127, 100: 24}\n"
     ]
    }
   ],
   "source": [
    "t_1 = 1\n",
    "safety_due_date = {id_val: t_1 + rul - 1 for id_val, rul in RUL.items()}\n",
    "print(safety_due_date)"
   ]
  },
  {
   "cell_type": "markdown",
   "metadata": {},
   "source": [
    "## Penalty costs"
   ]
  },
  {
   "cell_type": "code",
   "execution_count": 44,
   "metadata": {},
   "outputs": [
    {
     "name": "stdout",
     "output_type": "stream",
     "text": [
      "Index engine=1: cost=4\n",
      "Index engine=2: cost=4\n",
      "Index engine=3: cost=4\n",
      "Index engine=4: cost=4\n",
      "Index engine=5: cost=4\n",
      "Index engine=6: cost=4\n",
      "Index engine=7: cost=4\n",
      "Index engine=8: cost=4\n",
      "Index engine=9: cost=4\n",
      "Index engine=10: cost=4\n",
      "Index engine=11: cost=4\n",
      "Index engine=12: cost=4\n",
      "Index engine=13: cost=4\n",
      "Index engine=14: cost=4\n",
      "Index engine=15: cost=4\n",
      "Index engine=16: cost=4\n",
      "Index engine=17: cost=4\n",
      "Index engine=18: cost=4\n",
      "Index engine=19: cost=4\n",
      "Index engine=20: cost=4\n",
      "Index engine=21: cost=3\n",
      "Index engine=22: cost=3\n",
      "Index engine=23: cost=3\n",
      "Index engine=24: cost=3\n",
      "Index engine=25: cost=3\n",
      "Index engine=26: cost=3\n",
      "Index engine=27: cost=3\n",
      "Index engine=28: cost=3\n",
      "Index engine=29: cost=3\n",
      "Index engine=30: cost=3\n",
      "Index engine=31: cost=2\n",
      "Index engine=32: cost=2\n",
      "Index engine=33: cost=2\n",
      "Index engine=34: cost=2\n",
      "Index engine=35: cost=2\n",
      "Index engine=36: cost=2\n",
      "Index engine=37: cost=2\n",
      "Index engine=38: cost=2\n",
      "Index engine=39: cost=2\n",
      "Index engine=40: cost=2\n",
      "Index engine=41: cost=2\n",
      "Index engine=42: cost=2\n",
      "Index engine=43: cost=2\n",
      "Index engine=44: cost=2\n",
      "Index engine=45: cost=2\n",
      "Index engine=46: cost=5\n",
      "Index engine=47: cost=5\n",
      "Index engine=48: cost=5\n",
      "Index engine=49: cost=5\n",
      "Index engine=50: cost=5\n",
      "Index engine=51: cost=5\n",
      "Index engine=52: cost=5\n",
      "Index engine=53: cost=5\n",
      "Index engine=54: cost=5\n",
      "Index engine=55: cost=5\n",
      "Index engine=56: cost=5\n",
      "Index engine=57: cost=5\n",
      "Index engine=58: cost=5\n",
      "Index engine=59: cost=5\n",
      "Index engine=60: cost=5\n",
      "Index engine=61: cost=5\n",
      "Index engine=62: cost=5\n",
      "Index engine=63: cost=5\n",
      "Index engine=64: cost=5\n",
      "Index engine=65: cost=5\n",
      "Index engine=66: cost=5\n",
      "Index engine=67: cost=5\n",
      "Index engine=68: cost=5\n",
      "Index engine=69: cost=5\n",
      "Index engine=70: cost=5\n",
      "Index engine=71: cost=5\n",
      "Index engine=72: cost=5\n",
      "Index engine=73: cost=5\n",
      "Index engine=74: cost=5\n",
      "Index engine=75: cost=5\n",
      "Index engine=76: cost=5\n",
      "Index engine=77: cost=5\n",
      "Index engine=78: cost=5\n",
      "Index engine=79: cost=5\n",
      "Index engine=80: cost=5\n",
      "Index engine=81: cost=6\n",
      "Index engine=82: cost=6\n",
      "Index engine=83: cost=6\n",
      "Index engine=84: cost=6\n",
      "Index engine=85: cost=6\n",
      "Index engine=86: cost=6\n",
      "Index engine=87: cost=6\n",
      "Index engine=88: cost=6\n",
      "Index engine=89: cost=6\n",
      "Index engine=90: cost=6\n",
      "Index engine=91: cost=6\n",
      "Index engine=92: cost=6\n",
      "Index engine=93: cost=6\n",
      "Index engine=94: cost=6\n",
      "Index engine=95: cost=6\n",
      "Index engine=96: cost=6\n",
      "Index engine=97: cost=6\n",
      "Index engine=98: cost=6\n",
      "Index engine=99: cost=6\n",
      "Index engine=100: cost=6\n"
     ]
    }
   ],
   "source": [
    "penalty_costs = {}\n",
    "\n",
    "# Define the values for cj\n",
    "for engine in range(1, 21):\n",
    "    penalty_costs[engine] = 4\n",
    "\n",
    "for engine in range(21, 31):\n",
    "    penalty_costs[engine] = 3\n",
    "\n",
    "for engine in range(31, 46):\n",
    "    penalty_costs[engine] = 2\n",
    "\n",
    "for engine in range(46, 81):\n",
    "    penalty_costs[engine] = 5\n",
    "\n",
    "for engine in range(81, 101):\n",
    "    penalty_costs[engine] = 6\n",
    "\n",
    "# Print the dictionary to see the values\n",
    "for engine, cost in penalty_costs.items():\n",
    "    print(f\"Index engine={engine}: cost={cost}\")\n"
   ]
  },
  {
   "cell_type": "markdown",
   "metadata": {},
   "source": [
    "## Help functions"
   ]
  },
  {
   "cell_type": "code",
   "execution_count": 47,
   "metadata": {},
   "outputs": [],
   "source": [
    "def cost(engine, day):\n",
    "    \"\"\"\n",
    "    Calculates the incurred cost when an engine is not maintained by its safety due date.\n",
    "\n",
    "    Parameters:\n",
    "    - engine: number of the engine\n",
    "    - day: current day\n",
    "\n",
    "    Returns:\n",
    "    - integer: incurred cost for the engine on the day\n",
    "    \"\"\"\n",
    "    calculated_cost = penalty_costs[engine] * ((day - safety_due_date[engine]) ** 2)\n",
    "    return min(calculated_cost, 250)"
   ]
  },
  {
   "cell_type": "code",
   "execution_count": 48,
   "metadata": {},
   "outputs": [],
   "source": [
    "def update_safety_due_date(planning_horizon, engine):\n",
    "    \"\"\"\n",
    "    Update safety due date after maintenance has been performed on the engine.\n",
    "    An engine can only \"fail\" once during the planning period. Hence, \n",
    "    we make sure it exceeds the planning horizon.\n",
    "\n",
    "    Parameters:\n",
    "    - planning_horizon: the number of days in the planning period\n",
    "    - engine: number of the engine\n",
    "    \"\"\"\n",
    "    safety_due_date[engine] = planning_horizon + 1"
   ]
  },
  {
   "cell_type": "code",
   "execution_count": 50,
   "metadata": {},
   "outputs": [],
   "source": [
    "def complete_on_time(team, engine, start_day, planning_horizon):\n",
    "    \"\"\"\n",
    "    Checks if the maintenance can be performed by the team on the engine within the planning period.\n",
    "\n",
    "    Parameters:\n",
    "    - team: \"A\" or \"B\" indicating the type of team\n",
    "    - engine: number of the engine\n",
    "    - start_day: day when the maintenance is started\n",
    "    - planning_horizon: the number of days in the planning period\n",
    "\n",
    "    Returns:\n",
    "    - boolean: indicating if the maintenance can be performed within the planning horizon by the team on the engine\n",
    "    \"\"\"\n",
    "    return start_day + maintenance_duration[engine][team] - 1 <= planning_horizon    "
   ]
  },
  {
   "cell_type": "code",
   "execution_count": null,
   "metadata": {},
   "outputs": [],
   "source": [
    "def feasible():\n",
    "    \"\"\"\n",
    "    \"\"\""
   ]
  },
  {
   "cell_type": "markdown",
   "metadata": {},
   "source": [
    "## Genetic Algorithm"
   ]
  },
  {
   "cell_type": "code",
   "execution_count": null,
   "metadata": {},
   "outputs": [],
   "source": [
    "# Quintine\n",
    "def create_random_individuals():\n",
    "    \"\"\"\n",
    "\n",
    "    Returns:\n",
    "    - ....: population\n",
    "    \"\"\"\n",
    "    return"
   ]
  },
  {
   "cell_type": "code",
   "execution_count": null,
   "metadata": {},
   "outputs": [],
   "source": [
    "# Charlot\n",
    "def fitness(maintenance_schedule):\n",
    "    \"\"\"\n",
    "    \n",
    "    Returns:\n",
    "    - int: total incurred costs based on the maintenance schedule\n",
    "    \"\"\"\n",
    "    return"
   ]
  },
  {
   "cell_type": "code",
   "execution_count": null,
   "metadata": {},
   "outputs": [],
   "source": [
    "# Charlot\n",
    "def check_termination_criterion():\n",
    "    return"
   ]
  },
  {
   "cell_type": "code",
   "execution_count": null,
   "metadata": {},
   "outputs": [],
   "source": [
    "# Charlot\n",
    "def select_parents():\n",
    "    return"
   ]
  },
  {
   "cell_type": "code",
   "execution_count": null,
   "metadata": {},
   "outputs": [],
   "source": [
    "def crossover():\n",
    "    return"
   ]
  },
  {
   "cell_type": "code",
   "execution_count": null,
   "metadata": {},
   "outputs": [],
   "source": [
    "def mutation():\n",
    "    return"
   ]
  },
  {
   "cell_type": "code",
   "execution_count": null,
   "metadata": {},
   "outputs": [],
   "source": [
    "def new_offspring():\n",
    "    return"
   ]
  },
  {
   "cell_type": "code",
   "execution_count": null,
   "metadata": {},
   "outputs": [],
   "source": [
    "planning_horizon = 30\n",
    "maintenance_schedule = dict()\n",
    "\n",
    "# Structure\n",
    "# maintenance_data = {\n",
    "#     'Machine1': [\n",
    "#         {\n",
    "#             'team_type': 'A',\n",
    "#             'start_day': 1,\n",
    "#             'end_day': 10,\n",
    "#             'cost': 1000\n",
    "#         },\n",
    "#         {\n",
    "#             'team_type': 'B',\n",
    "#             'start_day': 2,\n",
    "#             'end_day': 15,\n",
    "#             'cost': 1500\n",
    "#         }\n",
    "#     ],\n",
    "#     'Machine2': [\n",
    "#         {\n",
    "#             'team_type': 'Team C',\n",
    "#             'start_date': '2024-01-15',\n",
    "#             'end_date': '2024-01-20',\n",
    "#             'penalty_costs': 1200\n",
    "#         }\n",
    "#     ],\n",
    "#     # Add more machines as needed\n",
    "# }\n"
   ]
  }
 ],
 "metadata": {
  "kernelspec": {
   "display_name": "Python 3",
   "language": "python",
   "name": "python3"
  },
  "language_info": {
   "codemirror_mode": {
    "name": "ipython",
    "version": 3
   },
   "file_extension": ".py",
   "mimetype": "text/x-python",
   "name": "python",
   "nbconvert_exporter": "python",
   "pygments_lexer": "ipython3",
   "version": "3.11.5"
  }
 },
 "nbformat": 4,
 "nbformat_minor": 2
}
